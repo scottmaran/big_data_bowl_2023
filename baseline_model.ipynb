{
 "cells": [
  {
   "cell_type": "code",
   "execution_count": 1,
   "metadata": {},
   "outputs": [],
   "source": [
    "import pandas as pd\n",
    "import numpy as np"
   ]
  },
  {
   "cell_type": "code",
   "execution_count": 2,
   "metadata": {},
   "outputs": [],
   "source": [
    "from sklearn.model_selection import train_test_split"
   ]
  },
  {
   "cell_type": "code",
   "execution_count": 3,
   "metadata": {},
   "outputs": [
    {
     "name": "stderr",
     "output_type": "stream",
     "text": [
      "2022-11-13 17:05:38.399552: I tensorflow/core/platform/cpu_feature_guard.cc:193] This TensorFlow binary is optimized with oneAPI Deep Neural Network Library (oneDNN) to use the following CPU instructions in performance-critical operations:  AVX2 FMA\n",
      "To enable them in other operations, rebuild TensorFlow with the appropriate compiler flags.\n"
     ]
    }
   ],
   "source": [
    "import tensorflow as tf\n",
    "import tensorflow.keras.layers as tfl"
   ]
  },
  {
   "cell_type": "code",
   "execution_count": 4,
   "metadata": {},
   "outputs": [
    {
     "name": "stdout",
     "output_type": "stream",
     "text": [
      "done\n"
     ]
    }
   ],
   "source": [
    "feature_arr = np.load(\"./cleaned_data/feature_arr_ids.npy\")\n",
    "target_arr = np.load(\"./cleaned_data/target_arr_ids.npy\")\n",
    "\n",
    "np.nan_to_num(feature_arr, copy=False, nan=0)\n",
    "np.nan_to_num(target_arr, copy=False, nan=0)\n",
    "print('done')\n"
   ]
  },
  {
   "cell_type": "code",
   "execution_count": 5,
   "metadata": {},
   "outputs": [],
   "source": [
    "#df = pd.DataFrame(feature_arr.reshape(feature_arr.shape[0], -1)).sort_values([0,1,2])"
   ]
  },
  {
   "cell_type": "code",
   "execution_count": 8,
   "metadata": {},
   "outputs": [],
   "source": [
    "reshaped_x = feature_arr.reshape(feature_arr.shape[0], -1)\n",
    "\n",
    "#print(f\"Shape of dataframe = {df.shape}\")\n",
    "#print(f\"70% of length = {df.shape[0]*.7}\")\n",
    "#print(f\"15% of length = {df.shape[0]*.15}\")\n",
    "\n",
    "# training set will start at. Pick these values so at the start of a new play\n",
    "train_index_end = 196648\n",
    "val_index_end = 238779\n",
    "\n",
    "x_preprocess_train = reshaped_x[0:train_index_end, :].reshape(-1, feature_arr.shape[1], feature_arr.shape[2])\n",
    "x_preprocess_val = reshaped_x[train_index_end:val_index_end, :].reshape(-1, feature_arr.shape[1], feature_arr.shape[2])\n",
    "x_preprocess_test = reshaped_x[val_index_end:, :].reshape(-1, feature_arr.shape[1], feature_arr.shape[2])\n",
    "\n",
    "y_train = target_arr[0:train_index_end]\n",
    "y_val = target_arr[train_index_end:val_index_end]\n",
    "y_test = target_arr[val_index_end:]\n",
    "\n",
    "\n",
    "\n",
    "#df.iloc[train_index_start+42130:train_index_start+42142+10, 0:5]"
   ]
  },
  {
   "cell_type": "code",
   "execution_count": 19,
   "metadata": {},
   "outputs": [
    {
     "name": "stdout",
     "output_type": "stream",
     "text": [
      "[[[ 2.0210909e+09  9.7000000e+01  6.0000000e+00  2.5511000e+04\n",
      "    2.0000000e+00  1.0405000e+02  6.7500000e+00  2.2300000e+00\n",
      "    1.9200000e+00  1.1560000e+02  7.0440000e+01]\n",
      "  [ 2.0210909e+09  9.7000000e+01  6.0000000e+00  3.5481000e+04\n",
      "    1.0000000e+00  1.0638000e+02  1.6300000e+00  6.8000000e-01\n",
      "    1.7100000e+00  2.7631000e+02  2.4479000e+02]\n",
      "  [ 2.0210909e+09  9.7000000e+01  6.0000000e+00  3.5634000e+04\n",
      "    1.0000000e+00  8.6200000e+01  1.0790000e+01  6.3000000e+00\n",
      "    4.8400000e+00  1.0943000e+02  4.6550000e+01]\n",
      "  [ 2.0210909e+09  9.7000000e+01  6.0000000e+00  3.9985000e+04\n",
      "    2.0000000e+00  9.5800000e+01  2.1040000e+01  6.3500000e+00\n",
      "    2.0900000e+00  1.2946000e+02  7.6550000e+01]\n",
      "  [ 2.0210909e+09  9.7000000e+01  6.0000000e+00  4.0151000e+04\n",
      "    2.0000000e+00  1.0645000e+02  5.9400000e+00  2.2100000e+00\n",
      "    9.0000000e-01  1.7527000e+02  1.3222000e+02]\n",
      "  [ 2.0210909e+09  9.7000000e+01  6.0000000e+00  4.1233000e+04\n",
      "    2.0000000e+00  8.7600000e+01 -1.4220000e+01  8.0300000e+00\n",
      "    1.2200000e+00  2.9891000e+02  3.1516000e+02]\n",
      "  [ 2.0210909e+09  9.7000000e+01  6.0000000e+00  4.1263000e+04\n",
      "    2.0000000e+00  1.0672000e+02  4.9000000e-01  1.4300000e+00\n",
      "    2.8700000e+00  1.1143000e+02  6.0800000e+00]\n",
      "  [ 2.0210909e+09  9.7000000e+01  6.0000000e+00  4.2377000e+04\n",
      "    2.0000000e+00  7.9340000e+01  9.8800000e+00  7.2800000e+00\n",
      "    1.8900000e+00  3.2390000e+01  1.5840000e+01]\n",
      "  [ 2.0210909e+09  9.7000000e+01  6.0000000e+00  4.2403000e+04\n",
      "    1.0000000e+00  1.0625000e+02  6.6700000e+00  2.2200000e+00\n",
      "    2.6600000e+00  3.4659000e+02  1.0225000e+02]\n",
      "  [ 2.0210909e+09  9.7000000e+01  6.0000000e+00  4.2404000e+04\n",
      "    2.0000000e+00  8.4860000e+01  1.6110000e+01  8.8800000e+00\n",
      "    1.7100000e+00  3.4886000e+02  5.2400000e+00]\n",
      "  [ 2.0210909e+09  9.7000000e+01  6.0000000e+00  4.3306000e+04\n",
      "    2.0000000e+00  8.6620000e+01  8.7600000e+00  5.6200000e+00\n",
      "    5.0700000e+00  4.6300000e+01  3.4860000e+01]\n",
      "  [ 2.0210909e+09  9.7000000e+01  6.0000000e+00  4.3478000e+04\n",
      "    1.0000000e+00  1.0869000e+02  1.2700000e+00  7.7000000e-01\n",
      "    2.0000000e+00  2.8148000e+02  1.7055000e+02]\n",
      "  [ 2.0210909e+09  9.7000000e+01  6.0000000e+00  4.4896000e+04\n",
      "    1.0000000e+00  9.6390000e+01  2.1360000e+01  6.4300000e+00\n",
      "    3.7800000e+00  1.1396000e+02  6.6070000e+01]\n",
      "  [ 2.0210909e+09  9.7000000e+01  6.0000000e+00  4.4904000e+04\n",
      "    2.0000000e+00  9.5280000e+01 -6.9500000e+00  5.5500000e+00\n",
      "    1.4700000e+00  7.8990000e+01  7.7010000e+01]\n",
      "  [ 2.0210909e+09  9.7000000e+01  6.0000000e+00  4.4955000e+04\n",
      "    2.0000000e+00  7.3100000e+01 -8.0000000e+00  5.1100000e+00\n",
      "    3.1500000e+00  1.0366000e+02  1.0090000e+01]\n",
      "  [ 2.0210909e+09  9.7000000e+01  6.0000000e+00  4.4962000e+04\n",
      "    1.0000000e+00  8.2200000e+01  1.3940000e+01  9.8500000e+00\n",
      "    2.5000000e-01  2.0400000e+00  2.8700000e+00]\n",
      "  [ 2.0210909e+09  9.7000000e+01  6.0000000e+00  4.6163000e+04\n",
      "    1.0000000e+00  1.0924000e+02  5.4300000e+00  1.5600000e+00\n",
      "    1.0500000e+00  8.0160000e+01  5.9730000e+01]\n",
      "  [ 2.0210909e+09  9.7000000e+01  6.0000000e+00  4.7996000e+04\n",
      "    1.0000000e+00  1.0665000e+02  5.1800000e+00  2.1300000e+00\n",
      "    9.5000000e-01  6.3540000e+01  1.2609000e+02]\n",
      "  [ 2.0210909e+09  9.7000000e+01  6.0000000e+00  5.2421000e+04\n",
      "    1.0000000e+00  8.7550000e+01 -1.6120000e+01  7.5900000e+00\n",
      "    1.7300000e+00  2.2380000e+01  3.2039000e+02]\n",
      "  [ 2.0210909e+09  9.7000000e+01  6.0000000e+00  5.2459000e+04\n",
      "    1.0000000e+00  9.5520000e+01 -6.4600000e+00  5.1200000e+00\n",
      "    2.5600000e+00  1.0483000e+02  8.2530000e+01]\n",
      "  [ 2.0210909e+09  9.7000000e+01  6.0000000e+00  5.3441000e+04\n",
      "    2.0000000e+00  1.0795000e+02  8.4000000e-01  1.1600000e+00\n",
      "    3.7300000e+00  1.0433000e+02  4.7500000e+01]\n",
      "  [ 2.0210909e+09  9.7000000e+01  6.0000000e+00  5.3504000e+04\n",
      "    1.0000000e+00  1.0808000e+02  1.5000000e+00  9.4000000e-01\n",
      "    2.5800000e+00  3.2811000e+02  1.4427000e+02]\n",
      "  [ 2.0210909e+09  9.7000000e+01  6.0000000e+00  0.0000000e+00\n",
      "    3.0000000e+00  1.0977000e+02  5.7800000e+00  1.7200000e+00\n",
      "    2.4100000e+00  0.0000000e+00  0.0000000e+00]]\n",
      "\n",
      " [[ 2.0210909e+09  9.7000000e+01  7.0000000e+00  2.5511000e+04\n",
      "    1.0000000e+00  7.9560000e+01  1.9290000e+01  5.4300000e+00\n",
      "    1.8900000e+00  2.8218000e+02  3.4626000e+02]\n",
      "  [ 2.0210909e+09  9.7000000e+01  7.0000000e+00  3.5481000e+04\n",
      "    2.0000000e+00  8.5730000e+01 -1.3670000e+01  8.1300000e+00\n",
      "    5.9000000e-01  3.3276000e+02  3.5134000e+02]\n",
      "  [ 2.0210909e+09  9.7000000e+01  7.0000000e+00  3.5634000e+04\n",
      "    1.0000000e+00  8.0690000e+01  2.4200000e+00  3.0700000e+00\n",
      "    1.5900000e+00  1.8343000e+02  3.5544000e+02]\n",
      "  [ 2.0210909e+09  9.7000000e+01  7.0000000e+00  3.9985000e+04\n",
      "    1.0000000e+00  1.0011000e+02 -5.0800000e+00  2.0900000e+00\n",
      "    1.4000000e+00  1.7929000e+02  1.5545000e+02]\n",
      "  [ 2.0210909e+09  9.7000000e+01  7.0000000e+00  4.0151000e+04\n",
      "    2.0000000e+00  1.0270000e+02 -5.3400000e+00  3.2200000e+00\n",
      "    1.7300000e+00  2.8464000e+02  1.8582000e+02]\n",
      "  [ 2.0210909e+09  9.7000000e+01  7.0000000e+00  4.1233000e+04\n",
      "    2.0000000e+00  1.0089000e+02 -4.5200000e+00  2.0600000e+00\n",
      "    1.8100000e+00  1.8200000e+00  1.5996000e+02]\n",
      "  [ 2.0210909e+09  9.7000000e+01  7.0000000e+00  4.1263000e+04\n",
      "    2.0000000e+00  8.5020000e+01  1.8030000e+01  7.9100000e+00\n",
      "    5.8000000e-01  1.8090000e+01  6.0000000e-01]\n",
      "  [ 2.0210909e+09  9.7000000e+01  7.0000000e+00  4.2377000e+04\n",
      "    1.0000000e+00  1.0001000e+02  1.1000000e-01  2.4200000e+00\n",
      "    1.9900000e+00  2.4024000e+02  2.7245000e+02]\n",
      "  [ 2.0210909e+09  9.7000000e+01  7.0000000e+00  4.2403000e+04\n",
      "    2.0000000e+00  1.0445000e+02 -3.2800000e+00  1.1400000e+00\n",
      "    3.5800000e+00  6.0510000e+01  1.4944000e+02]\n",
      "  [ 2.0210909e+09  9.7000000e+01  7.0000000e+00  4.2404000e+04\n",
      "    1.0000000e+00  1.0060000e+02 -8.0000000e-02  2.7800000e+00\n",
      "    3.1900000e+00  1.9345000e+02  1.6812000e+02]\n",
      "  [ 2.0210909e+09  9.7000000e+01  7.0000000e+00  4.3306000e+04\n",
      "    2.0000000e+00  8.8050000e+01  2.9500000e+00  5.8000000e+00\n",
      "    4.3500000e+00  3.3165000e+02  3.3226000e+02]\n",
      "  [ 2.0210909e+09  9.7000000e+01  7.0000000e+00  4.3478000e+04\n",
      "    1.0000000e+00  8.5050000e+01 -1.0260000e+01  1.7700000e+00\n",
      "    1.0600000e+00  1.8917000e+02  8.1330000e+01]\n",
      "  [ 2.0210909e+09  9.7000000e+01  7.0000000e+00  4.4896000e+04\n",
      "    1.0000000e+00  7.9600000e+01 -1.6500000e+01  3.8000000e+00\n",
      "    4.5000000e-01  1.0234000e+02  3.5227000e+02]\n",
      "  [ 2.0210909e+09  9.7000000e+01  7.0000000e+00  4.4904000e+04\n",
      "    2.0000000e+00  9.9640000e+01 -1.6900000e+00  1.6200000e+00\n",
      "    1.6600000e+00  7.7840000e+01  1.6514000e+02]\n",
      "  [ 2.0210909e+09  9.7000000e+01  7.0000000e+00  4.4955000e+04\n",
      "    1.0000000e+00  1.0254000e+02 -6.2300000e+00  3.9000000e+00\n",
      "    2.1000000e+00  1.9125000e+02  1.7119000e+02]\n",
      "  [ 2.0210909e+09  9.7000000e+01  7.0000000e+00  4.4962000e+04\n",
      "    2.0000000e+00  1.0220000e+02 -6.0200000e+00  3.4600000e+00\n",
      "    1.5100000e+00  2.0474000e+02  1.8464000e+02]\n",
      "  [ 2.0210909e+09  9.7000000e+01  7.0000000e+00  4.6163000e+04\n",
      "    2.0000000e+00  1.0077000e+02 -8.3000000e-01  2.3300000e+00\n",
      "    1.6100000e+00  5.2830000e+01  1.8077000e+02]\n",
      "  [ 2.0210909e+09  9.7000000e+01  7.0000000e+00  4.7996000e+04\n",
      "    2.0000000e+00  8.7350000e+01  8.8900000e+00  7.2300000e+00\n",
      "    8.1000000e-01  3.5430000e+02  3.5526000e+02]\n",
      "  [ 2.0210909e+09  9.7000000e+01  7.0000000e+00  5.2421000e+04\n",
      "    2.0000000e+00  1.0141000e+02 -2.1000000e-01  1.4300000e+00\n",
      "    7.0000000e-01  1.7840000e+01  1.9173000e+02]\n",
      "  [ 2.0210909e+09  9.7000000e+01  7.0000000e+00  5.2459000e+04\n",
      "    1.0000000e+00  7.0900000e+01  3.8900000e+00  4.2200000e+00\n",
      "    6.2000000e-01  1.5244000e+02  3.5302000e+02]\n",
      "  [ 2.0210909e+09  9.7000000e+01  7.0000000e+00  5.3441000e+04\n",
      "    1.0000000e+00  7.9760000e+01 -5.1300000e+00  1.4400000e+00\n",
      "    1.1600000e+00  1.8199000e+02  3.3744000e+02]\n",
      "  [ 2.0210909e+09  9.7000000e+01  7.0000000e+00  5.3504000e+04\n",
      "    1.0000000e+00  8.4240000e+01  1.2300000e+01  1.2300000e+00\n",
      "    7.6000000e-01  2.4343000e+02  3.4660000e+01]\n",
      "  [ 2.0210909e+09  9.7000000e+01  7.0000000e+00  0.0000000e+00\n",
      "    3.0000000e+00  1.0440000e+02 -3.2700000e+00  1.1800000e+00\n",
      "    2.4300000e+00  0.0000000e+00  0.0000000e+00]]]\n"
     ]
    }
   ],
   "source": [
    "print(x_preprocess_train[0:2])"
   ]
  },
  {
   "cell_type": "code",
   "execution_count": 9,
   "metadata": {},
   "outputs": [],
   "source": [
    "#x_preprocess_train, x_preprocess_test, y_train, y_test = train_test_split(feature_arr, target_arr, test_size=0.3, random_state=5)\n",
    "#x_preprocess_test, x_preprocess_val, y_test, y_val = train_test_split(x_preprocess_test, y_test, test_size=0.5, random_state=5)"
   ]
  },
  {
   "cell_type": "code",
   "execution_count": 20,
   "metadata": {},
   "outputs": [],
   "source": [
    "\n",
    "x_train = x_preprocess_train[:,:,4:11]\n",
    "x_val = x_preprocess_val[:,:,4:11]\n",
    "x_test = x_preprocess_test[:,:,4:11]\n",
    "\n",
    "np.random.shuffle(x_train)\n",
    "np.random.shuffle(x_val)\n",
    "np.random.shuffle(x_test)"
   ]
  },
  {
   "cell_type": "code",
   "execution_count": 22,
   "metadata": {},
   "outputs": [
    {
     "data": {
      "text/plain": [
       "\" \\nFeature list:\\n['gameId', 'playId', 'frameId', 'nflId', 'team_indicator', 'adj_x', 'adj_y', 's', 'a', 'adj_o', 'adj_dir']\\n\""
      ]
     },
     "execution_count": 22,
     "metadata": {},
     "output_type": "execute_result"
    }
   ],
   "source": [
    "''' \n",
    "Feature list:\n",
    "['gameId', 'playId', 'frameId', 'nflId', 'team_indicator', 'adj_x', 'adj_y', 's', 'a', 'adj_o', 'adj_dir']\n",
    "'''"
   ]
  },
  {
   "cell_type": "code",
   "execution_count": 23,
   "metadata": {},
   "outputs": [],
   "source": [
    "\n",
    "# standardize data\n",
    "train_mu = np.mean(x_train.reshape(-1,x_train.shape[-1]),axis=0)\n",
    "train_std = np.std(x_train.reshape(-1,x_train.shape[-1]),axis=0)\n",
    "\n",
    "x_train[:,:,1:] = (x_train[:,:,1:] - train_mu[1:])/train_std[1:]\n",
    "x_val[:,:,1:] = (x_val[:,:,1:] - train_mu[1:])/train_std[1:]\n",
    "x_test[:,:,1:] = (x_test[:,:,1:] - train_mu[1:])/train_std[1:]\n"
   ]
  },
  {
   "cell_type": "code",
   "execution_count": 24,
   "metadata": {},
   "outputs": [
    {
     "name": "stdout",
     "output_type": "stream",
     "text": [
      "number of training examples = 196648\n",
      "number of test examples = 42170\n",
      "X_train shape: (196648, 23, 7)\n",
      "Y_train shape: (196648, 2)\n",
      "X_val shape: (42131, 23, 7)\n",
      "Y_val shape: (42131, 2)\n",
      "X_test shape: (42170, 23, 7)\n",
      "Y_test shape: (42170, 2)\n"
     ]
    }
   ],
   "source": [
    "# train_dataset = tf.data.Dataset.from_tensor_slices((x_train, y_train))\n",
    "# val_dataset = tf.data.Dataset.from_tensor_slices((x_val, y_val))\n",
    "# test_dataset = tf.data.Dataset.from_tensor_slices((x_test, y_test))\n",
    "\n",
    "print (\"number of training examples = \" + str(x_train.shape[0]))\n",
    "print (\"number of test examples = \" + str(x_test.shape[0]))\n",
    "print (\"X_train shape: \" + str(x_train.shape))\n",
    "print (\"Y_train shape: \" + str(y_train.shape))\n",
    "print (\"X_val shape: \" + str(x_val.shape))\n",
    "print (\"Y_val shape: \" + str(y_val.shape))\n",
    "print (\"X_test shape: \" + str(x_test.shape))\n",
    "print (\"Y_test shape: \" + str(y_test.shape))"
   ]
  },
  {
   "cell_type": "code",
   "execution_count": 25,
   "metadata": {},
   "outputs": [],
   "source": [
    "import keras.backend as K\n",
    "\n",
    "def my_loss(y_true, y_pred):\n",
    "    bce = tf.keras.losses.BinaryCrossentropy(from_logits=True)\n",
    "    mse = tf.keras.losses.MeanSquaredError()\n",
    "    return bce(y_true[:,0], y_pred[:,0]) + mse(y_true[:,1], y_pred[:,1])\n",
    "\n",
    "def bce_metric(y_true, y_pred):\n",
    "    return K.mean(K.binary_crossentropy(y_true[:,0], y_pred[:,0], from_logits=True))\n",
    "    \n",
    "    #logit_max = K.clip(y_pred, 1e-12, 1e12)\n",
    "    #tf.print(y_pred[:,0])\n",
    "    #tf.print(logit_max[:,0])\n",
    "    #probs = 1/(1+K.exp(-logit_max[:,0]))\n",
    "    #return -K.mean( y_true[:,0]*K.log(probs) + (1-y_true[:,0])*K.log(1-probs))\n",
    "\n",
    "def mse_metric(y_true, y_pred):\n",
    "    return K.mean(K.square(y_pred[:,1] - y_true[:,1]), axis=-1)\n",
    "\n",
    "# https://stackoverflow.com/questions/43547402/how-to-calculate-f1-macro-in-keras\n",
    "def recall(y_true, y_pred):\n",
    "    \"\"\"Recall metric.\n",
    "\n",
    "    Only computes a batch-wise average of recall.\n",
    "\n",
    "    Computes the recall, a metric for multi-label classification of\n",
    "    how many relevant items are selected.\n",
    "    \"\"\"\n",
    "    true_positives = K.sum(K.round(K.clip(y_true[:,0] * y_pred[:,0], 0, 1)))\n",
    "    possible_positives = K.sum(K.round(K.clip(y_true[:,0], 0, 1)))\n",
    "    recall = true_positives / (possible_positives + K.epsilon())\n",
    "    return recall\n",
    "\n",
    "def precision(y_true, y_pred):\n",
    "    \"\"\"Precision metric.\n",
    "\n",
    "    Only computes a batch-wise average of precision.\n",
    "\n",
    "    Computes the precision, a metric for multi-label classification of\n",
    "    how many selected items are relevant.\n",
    "    \"\"\"\n",
    "    true_positives = K.sum(K.round(K.clip(y_true[:,0] * y_pred[:,0], 0, 1)))\n",
    "    predicted_positives = K.sum(K.round(K.clip(y_pred[:,0], 0, 1)))\n",
    "    precision = true_positives / (predicted_positives + K.epsilon())\n",
    "    return precision\n",
    "\n"
   ]
  },
  {
   "cell_type": "code",
   "execution_count": 26,
   "metadata": {},
   "outputs": [],
   "source": [
    "model = tf.keras.Sequential([\n",
    "            tfl.Flatten(input_shape=(23, 7)),\n",
    "            tfl.Dense(100, activation='relu'),\n",
    "            tfl.Dense(80, activation='relu'), \n",
    "            tfl.Dense(2,activation=None)\n",
    "        ])\n",
    "model.compile(optimizer='adam',\n",
    "              loss=my_loss,\n",
    "              metrics=[bce_metric, mse_metric, recall, precision])"
   ]
  },
  {
   "cell_type": "code",
   "execution_count": 27,
   "metadata": {},
   "outputs": [
    {
     "name": "stdout",
     "output_type": "stream",
     "text": [
      "Epoch 1/5\n",
      "6146/6146 [==============================] - 13s 2ms/step - loss: 1.3716 - bce_metric: 0.2849 - mse_metric: 1.0865 - recall: 1.1390e-04 - precision: 3.1960e-05\n",
      "Epoch 2/5\n",
      "6146/6146 [==============================] - 12s 2ms/step - loss: 1.3586 - bce_metric: 0.2828 - mse_metric: 1.0760 - recall: 0.0000e+00 - precision: 0.0000e+00\n",
      "Epoch 3/5\n",
      "6146/6146 [==============================] - 12s 2ms/step - loss: 1.3571 - bce_metric: 0.2825 - mse_metric: 1.0745 - recall: 0.0000e+00 - precision: 0.0000e+00\n",
      "Epoch 4/5\n",
      "6146/6146 [==============================] - 12s 2ms/step - loss: 1.3553 - bce_metric: 0.2819 - mse_metric: 1.0733 - recall: 0.0000e+00 - precision: 0.0000e+00\n",
      "Epoch 5/5\n",
      "6146/6146 [==============================] - 16s 3ms/step - loss: 1.3527 - bce_metric: 0.2810 - mse_metric: 1.0716 - recall: 0.0000e+00 - precision: 0.0000e+00\n"
     ]
    }
   ],
   "source": [
    "NUM_EPOCHS = 5\n",
    "history = model.fit(x_train, y_train, epochs=NUM_EPOCHS)"
   ]
  },
  {
   "cell_type": "code",
   "execution_count": 29,
   "metadata": {},
   "outputs": [
    {
     "name": "stdout",
     "output_type": "stream",
     "text": [
      "1317/1317 - 2s - loss: 2.0911 - bce_metric: 0.8982 - mse_metric: 1.1923 - recall: 0.0036 - precision: 0.0110 - 2s/epoch - 1ms/step\n"
     ]
    }
   ],
   "source": [
    "val_loss, val_bce, val_mse, val_recall, val_precision = model.evaluate(x_val, y_val, verbose=2)\n",
    "\n",
    "metrics_df = pd.DataFrame(history.history)\n"
   ]
  },
  {
   "cell_type": "code",
   "execution_count": null,
   "metadata": {},
   "outputs": [
    {
     "data": {
      "text/html": [
       "<div>\n",
       "<style scoped>\n",
       "    .dataframe tbody tr th:only-of-type {\n",
       "        vertical-align: middle;\n",
       "    }\n",
       "\n",
       "    .dataframe tbody tr th {\n",
       "        vertical-align: top;\n",
       "    }\n",
       "\n",
       "    .dataframe thead th {\n",
       "        text-align: right;\n",
       "    }\n",
       "</style>\n",
       "<table border=\"1\" class=\"dataframe\">\n",
       "  <thead>\n",
       "    <tr style=\"text-align: right;\">\n",
       "      <th></th>\n",
       "      <th>loss</th>\n",
       "      <th>bce_metric</th>\n",
       "      <th>mse_metric</th>\n",
       "      <th>recall</th>\n",
       "      <th>precision</th>\n",
       "    </tr>\n",
       "  </thead>\n",
       "  <tbody>\n",
       "    <tr>\n",
       "      <th>0</th>\n",
       "      <td>1.156930</td>\n",
       "      <td>0.231311</td>\n",
       "      <td>0.925618</td>\n",
       "      <td>0.085188</td>\n",
       "      <td>0.186666</td>\n",
       "    </tr>\n",
       "    <tr>\n",
       "      <th>1</th>\n",
       "      <td>0.696731</td>\n",
       "      <td>0.137030</td>\n",
       "      <td>0.559678</td>\n",
       "      <td>0.418932</td>\n",
       "      <td>0.665055</td>\n",
       "    </tr>\n",
       "    <tr>\n",
       "      <th>2</th>\n",
       "      <td>0.475289</td>\n",
       "      <td>0.090597</td>\n",
       "      <td>0.384704</td>\n",
       "      <td>0.606448</td>\n",
       "      <td>0.788535</td>\n",
       "    </tr>\n",
       "    <tr>\n",
       "      <th>3</th>\n",
       "      <td>0.357305</td>\n",
       "      <td>0.064594</td>\n",
       "      <td>0.292707</td>\n",
       "      <td>0.713964</td>\n",
       "      <td>0.846681</td>\n",
       "    </tr>\n",
       "    <tr>\n",
       "      <th>4</th>\n",
       "      <td>0.288632</td>\n",
       "      <td>0.049381</td>\n",
       "      <td>0.239251</td>\n",
       "      <td>0.765980</td>\n",
       "      <td>0.866968</td>\n",
       "    </tr>\n",
       "    <tr>\n",
       "      <th>5</th>\n",
       "      <td>0.242342</td>\n",
       "      <td>0.038002</td>\n",
       "      <td>0.204356</td>\n",
       "      <td>0.809271</td>\n",
       "      <td>0.886129</td>\n",
       "    </tr>\n",
       "    <tr>\n",
       "      <th>6</th>\n",
       "      <td>0.201743</td>\n",
       "      <td>0.029613</td>\n",
       "      <td>0.172126</td>\n",
       "      <td>0.836978</td>\n",
       "      <td>0.896455</td>\n",
       "    </tr>\n",
       "    <tr>\n",
       "      <th>7</th>\n",
       "      <td>0.182937</td>\n",
       "      <td>0.024706</td>\n",
       "      <td>0.158225</td>\n",
       "      <td>0.857228</td>\n",
       "      <td>0.903895</td>\n",
       "    </tr>\n",
       "    <tr>\n",
       "      <th>8</th>\n",
       "      <td>0.158901</td>\n",
       "      <td>0.019616</td>\n",
       "      <td>0.139280</td>\n",
       "      <td>0.873908</td>\n",
       "      <td>0.908965</td>\n",
       "    </tr>\n",
       "    <tr>\n",
       "      <th>9</th>\n",
       "      <td>0.142864</td>\n",
       "      <td>0.016687</td>\n",
       "      <td>0.126193</td>\n",
       "      <td>0.888765</td>\n",
       "      <td>0.918984</td>\n",
       "    </tr>\n",
       "  </tbody>\n",
       "</table>\n",
       "</div>"
      ],
      "text/plain": [
       "       loss  bce_metric  mse_metric    recall  precision\n",
       "0  1.156930    0.231311    0.925618  0.085188   0.186666\n",
       "1  0.696731    0.137030    0.559678  0.418932   0.665055\n",
       "2  0.475289    0.090597    0.384704  0.606448   0.788535\n",
       "3  0.357305    0.064594    0.292707  0.713964   0.846681\n",
       "4  0.288632    0.049381    0.239251  0.765980   0.866968\n",
       "5  0.242342    0.038002    0.204356  0.809271   0.886129\n",
       "6  0.201743    0.029613    0.172126  0.836978   0.896455\n",
       "7  0.182937    0.024706    0.158225  0.857228   0.903895\n",
       "8  0.158901    0.019616    0.139280  0.873908   0.908965\n",
       "9  0.142864    0.016687    0.126193  0.888765   0.918984"
      ]
     },
     "execution_count": 13,
     "metadata": {},
     "output_type": "execute_result"
    }
   ],
   "source": [
    "metrics_df"
   ]
  },
  {
   "cell_type": "code",
   "execution_count": null,
   "metadata": {},
   "outputs": [
    {
     "name": "stdout",
     "output_type": "stream",
     "text": [
      "val loss = 0.20938993990421295\n",
      "val_bce = 0.02983475849032402\n",
      "val_mse = 0.17955544590950012\n",
      "val_recall = 0.8652931451797485\n",
      "val_precision = 0.8892954587936401\n"
     ]
    }
   ],
   "source": [
    "print(f\"val loss = {val_loss}\")\n",
    "print(f\"val_bce = {val_bce}\")\n",
    "print(f\"val_mse = {val_mse}\")\n",
    "print(f\"val_recall = {val_recall}\")\n",
    "print(f\"val_precision = {val_precision}\")"
   ]
  },
  {
   "cell_type": "code",
   "execution_count": null,
   "metadata": {},
   "outputs": [],
   "source": [
    "model_string = f\"models/basic_model/epochs{NUM_EPOCHS}.ckpt\"\n",
    "model.save_weights(model_string.format(epoch=0))"
   ]
  },
  {
   "cell_type": "code",
   "execution_count": null,
   "metadata": {},
   "outputs": [],
   "source": []
  },
  {
   "cell_type": "code",
   "execution_count": null,
   "metadata": {},
   "outputs": [],
   "source": []
  },
  {
   "cell_type": "code",
   "execution_count": null,
   "metadata": {},
   "outputs": [],
   "source": [
    "# # Define baseline model\n",
    "# model = tf.keras.Sequential([\n",
    "#             tfl.Flatten(input_shape=(23, 7)),\n",
    "#             tfl.Dense(100, activation='relu'),\n",
    "#             tfl.Dense(80, activation='relu'), \n",
    "#             tfl.Dense(2,activation=None)\n",
    "#         ])\n",
    "# model.compile(optimizer='adam',\n",
    "#               loss='mean_squared_error',\n",
    "#               metrics=[tf.keras.metrics.MeanSquaredError()])\n",
    "# history = model.fit(x_train, y_train, epochs=3)\n",
    "# val_loss, val_mse = model.evaluate(x_val, y_val, verbose=2)\n",
    "# print('Val mse:', val_mse)\n",
    "# metrics_df = pd.DataFrame(history.history)\n",
    "# #metrics_df.loss.plot(title='Model loss',figsize=(6,3)).set(xlabel='Epoch',ylabel='Loss')"
   ]
  },
  {
   "cell_type": "code",
   "execution_count": null,
   "metadata": {},
   "outputs": [],
   "source": []
  }
 ],
 "metadata": {
  "kernelspec": {
   "display_name": "Python 3.8.13 ('bdb_2023')",
   "language": "python",
   "name": "python3"
  },
  "language_info": {
   "codemirror_mode": {
    "name": "ipython",
    "version": 3
   },
   "file_extension": ".py",
   "mimetype": "text/x-python",
   "name": "python",
   "nbconvert_exporter": "python",
   "pygments_lexer": "ipython3",
   "version": "3.8.13"
  },
  "orig_nbformat": 4,
  "vscode": {
   "interpreter": {
    "hash": "64e913be5900ee3bfd48533456727a82d0e0b84d6c12de93770bb09b0509b267"
   }
  }
 },
 "nbformat": 4,
 "nbformat_minor": 2
}
