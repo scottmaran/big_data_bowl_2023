{
 "cells": [
  {
   "cell_type": "code",
   "execution_count": null,
   "metadata": {},
   "outputs": [],
   "source": [
    "### First run"
   ]
  },
  {
   "attachments": {},
   "cell_type": "markdown",
   "metadata": {},
   "source": [
    "Model architecture - 1 hidden layer (50)\n",
    "Data normalized\n",
    "Scheduled Adam optimizer (untuned)\n",
    "LEARNING_RATE = 0.000001\n",
    "Batch_size = 128\n",
    "Loss: MSE (all outcomes) + BCE\n",
    "Precision & Recall : First implementation\n",
    "\n",
    "val_accuracy_metric: 0.7493 - val_bce_metric: 0.5271 - val_mse_metric: 2.2912 - val_recall: 0.0686 - val_precision: 0.0820"
   ]
  },
  {
   "cell_type": "code",
   "execution_count": null,
   "metadata": {},
   "outputs": [],
   "source": [
    "### Second run"
   ]
  },
  {
   "attachments": {},
   "cell_type": "markdown",
   "metadata": {},
   "source": [
    "Fixed precision and recall\n",
    "\n",
    "New metrics after 1st epoch\n",
    "loss: 2.8189 - accuracy_metric: 0.6419 - bce_metric: 0.6664 - mse_metric: 2.1530 - recall: 0.5924 - precision: 0.2130\n",
    "val_loss: 2.4550 - val_accurcay: 0.6868 - val_bce: 0.6051 - val_mse: 1.8461 - val_recall: 0.1527 - val_precision: 0.1555"
   ]
  },
  {
   "cell_type": "code",
   "execution_count": null,
   "metadata": {},
   "outputs": [],
   "source": [
    "### Third run\n",
    "\n",
    "# dice_loss_model"
   ]
  },
  {
   "attachments": {},
   "cell_type": "markdown",
   "metadata": {},
   "source": [
    "Try different loss function to maximize f1 score\n",
    "\n",
    "New metrics after 1st epoch\n",
    "loss: 0.8521 - accuracy_metric: 0.1604 - bce_metric: 1.9024 - mse_metric: 1.8760 - recall: 0.9291 - precision: 0.0888\n",
    "val_loss: 0.8925 - val_accuracy: 0.1659 - val_bce: 1.9328 - val_mse: 1.9058 - val_recall: 0.2470 - val_precision: 0.0812"
   ]
  },
  {
   "cell_type": "code",
   "execution_count": null,
   "metadata": {},
   "outputs": [],
   "source": [
    "### Confirming data integrity of y-values. Not normalizing\n"
   ]
  },
  {
   "attachments": {},
   "cell_type": "markdown",
   "metadata": {},
   "source": [
    "New\n",
    "loss: 0.8499 - accuracy_metric: 0.1488 - bce_metric: 12.8426 - mse_metric: 18861.4258 - recall: 0.9425 - precision: 0.0876\n",
    "val_loss: 0.8859 - val_accuracy: 0.1596 - val_bce: 12.6665 - val_mse: 18702.5566 - val_recall: 0.2580 - val_precision: 0.0829"
   ]
  }
 ],
 "metadata": {
  "kernelspec": {
   "display_name": "Python 3",
   "language": "python",
   "name": "python3"
  },
  "language_info": {
   "name": "python",
   "version": "3.8.13 (default, Jun  8 2022, 16:11:56) \n[Clang 13.1.6 (clang-1316.0.21.2)]"
  },
  "orig_nbformat": 4,
  "vscode": {
   "interpreter": {
    "hash": "30db82d8cee61bfe28cec0db433cf9aa423106e927889be025c2bedcf384d61e"
   }
  }
 },
 "nbformat": 4,
 "nbformat_minor": 2
}
