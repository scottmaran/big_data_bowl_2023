{
 "cells": [
  {
   "cell_type": "code",
   "execution_count": 1,
   "metadata": {},
   "outputs": [],
   "source": [
    "import pandas as pd\n",
    "import numpy as np"
   ]
  },
  {
   "cell_type": "code",
   "execution_count": 2,
   "metadata": {},
   "outputs": [
    {
     "name": "stderr",
     "output_type": "stream",
     "text": [
      "2022-11-13 16:42:16.734525: I tensorflow/core/platform/cpu_feature_guard.cc:193] This TensorFlow binary is optimized with oneAPI Deep Neural Network Library (oneDNN) to use the following CPU instructions in performance-critical operations:  AVX2 FMA\n",
      "To enable them in other operations, rebuild TensorFlow with the appropriate compiler flags.\n"
     ]
    }
   ],
   "source": [
    "import tensorflow as tf\n",
    "import tensorflow.keras.layers as tfl\n",
    "from sklearn.model_selection import train_test_split"
   ]
  },
  {
   "cell_type": "code",
   "execution_count": 3,
   "metadata": {},
   "outputs": [],
   "source": [
    "from IPython.display import HTML"
   ]
  },
  {
   "cell_type": "code",
   "execution_count": 4,
   "metadata": {},
   "outputs": [
    {
     "name": "stderr",
     "output_type": "stream",
     "text": [
      "2022-11-13 16:42:32.976317: I tensorflow/core/platform/cpu_feature_guard.cc:193] This TensorFlow binary is optimized with oneAPI Deep Neural Network Library (oneDNN) to use the following CPU instructions in performance-critical operations:  AVX2 FMA\n",
      "To enable them in other operations, rebuild TensorFlow with the appropriate compiler flags.\n"
     ]
    }
   ],
   "source": [
    "model = tf.keras.Sequential([\n",
    "            tfl.Flatten(input_shape=(23, 7)),\n",
    "            tfl.Dense(100, activation='relu'),\n",
    "            tfl.Dense(80, activation='relu'), \n",
    "            tfl.Dense(2,activation=None)\n",
    "        ])"
   ]
  },
  {
   "cell_type": "code",
   "execution_count": 5,
   "metadata": {},
   "outputs": [
    {
     "data": {
      "text/plain": [
       "<tensorflow.python.checkpoint.checkpoint.CheckpointLoadStatus at 0x1333db6d0>"
      ]
     },
     "execution_count": 5,
     "metadata": {},
     "output_type": "execute_result"
    }
   ],
   "source": [
    "model_string = f\"models/basic_model/epochs10.ckpt\"\n",
    "\n",
    "model.load_weights(model_string)"
   ]
  },
  {
   "cell_type": "code",
   "execution_count": 6,
   "metadata": {},
   "outputs": [],
   "source": [
    "feature_arr = np.load(\"./cleaned_data/feature_arr_ids.npy\")\n",
    "target_arr = np.load(\"./cleaned_data/target_arr_ids.npy\")\n",
    "\n",
    "np.nan_to_num(feature_arr, copy=False, nan=0)\n",
    "np.nan_to_num(target_arr, copy=False, nan=0)\n",
    "\n",
    "x_preprocess_train, x_preprocess_test, y_train, y_test = train_test_split(feature_arr, target_arr, test_size=0.3, random_state=5)\n",
    "x_preprocess_test, x_preprocess_val, y_test, y_val = train_test_split(x_preprocess_test, y_test, test_size=0.5, random_state=5)"
   ]
  },
  {
   "cell_type": "code",
   "execution_count": 7,
   "metadata": {},
   "outputs": [],
   "source": [
    "''' \n",
    "Feature list:\n",
    "['gameId', 'playId', 'frameId', 'nflId', 'team_indicator', 'adj_x', 'adj_y', 's', 'a', 'adj_o', 'adj_dir']\n",
    "'''\n",
    "\n",
    "x_train = x_preprocess_train[:,:,4:11]\n",
    "x_val = x_preprocess_val[:,:,4:11]\n",
    "x_test = x_preprocess_test[:,:,4:11]\n",
    "\n",
    "train_mu = np.mean(x_train.reshape(-1,x_train.shape[-1]),axis=0)\n",
    "train_std = np.std(x_train.reshape(-1,x_train.shape[-1]),axis=0)\n",
    "\n",
    "x_train[:,:,1:] = (x_train[:,:,1:] - train_mu[1:])/train_std[1:]\n",
    "x_val[:,:,1:] = (x_val[:,:,1:] - train_mu[1:])/train_std[1:]\n",
    "x_test[:,:,1:] = (x_test[:,:,1:] - train_mu[1:])/train_std[1:]"
   ]
  },
  {
   "cell_type": "code",
   "execution_count": 8,
   "metadata": {},
   "outputs": [
    {
     "name": "stdout",
     "output_type": "stream",
     "text": [
      "dataframe shape = (1118122, 16)\n"
     ]
    }
   ],
   "source": [
    "def create_ngs_df():\n",
    "\n",
    "    ngs_df = pd.read_csv(\"data/week1.csv\", engine='c')\n",
    "    print(f\"dataframe shape = {ngs_df.shape}\")\n",
    "\n",
    "    for i in range(2,9):\n",
    "        ngs_df = pd.concat([ngs_df,pd.read_csv(f\"data/week{i}.csv\", engine='c') ])\n",
    "    return ngs_df\n",
    "\n",
    "ngs_df = create_ngs_df()"
   ]
  },
  {
   "cell_type": "code",
   "execution_count": 23,
   "metadata": {},
   "outputs": [],
   "source": [
    "val_df = pd.DataFrame(x_preprocess_val.reshape(x_val.shape[0], -1)).sort_values([0,1,2])"
   ]
  },
  {
   "cell_type": "code",
   "execution_count": 10,
   "metadata": {},
   "outputs": [
    {
     "name": "stdout",
     "output_type": "stream",
     "text": [
      "1317/1317 [==============================] - 4s 2ms/step\n"
     ]
    }
   ],
   "source": [
    "preds = model.predict(x_val)"
   ]
  },
  {
   "cell_type": "code",
   "execution_count": 13,
   "metadata": {},
   "outputs": [
    {
     "data": {
      "text/plain": [
       "array([-10.983147 ,  -1.0058748], dtype=float32)"
      ]
     },
     "execution_count": 13,
     "metadata": {},
     "output_type": "execute_result"
    }
   ],
   "source": [
    "preds[2]"
   ]
  },
  {
   "cell_type": "code",
   "execution_count": null,
   "metadata": {},
   "outputs": [],
   "source": []
  },
  {
   "cell_type": "code",
   "execution_count": 9,
   "metadata": {},
   "outputs": [],
   "source": [
    "sample = x_preprocess_val[0]\n",
    "\n",
    "game_id = sample[0][0]\n",
    "play_id = sample[0][1]\n",
    "frame_id = sample[0][2]"
   ]
  },
  {
   "cell_type": "code",
   "execution_count": 9,
   "metadata": {},
   "outputs": [],
   "source": [
    "play_df = ngs_df.query(\"gameId == @game_id and playId == @play_id\")"
   ]
  },
  {
   "cell_type": "code",
   "execution_count": 13,
   "metadata": {},
   "outputs": [
    {
     "data": {
      "text/html": [
       "<div>\n",
       "<style scoped>\n",
       "    .dataframe tbody tr th:only-of-type {\n",
       "        vertical-align: middle;\n",
       "    }\n",
       "\n",
       "    .dataframe tbody tr th {\n",
       "        vertical-align: top;\n",
       "    }\n",
       "\n",
       "    .dataframe thead th {\n",
       "        text-align: right;\n",
       "    }\n",
       "</style>\n",
       "<table border=\"1\" class=\"dataframe\">\n",
       "  <thead>\n",
       "    <tr style=\"text-align: right;\">\n",
       "      <th></th>\n",
       "      <th>gameId</th>\n",
       "      <th>playId</th>\n",
       "      <th>nflId</th>\n",
       "      <th>frameId</th>\n",
       "      <th>time</th>\n",
       "      <th>jerseyNumber</th>\n",
       "      <th>team</th>\n",
       "      <th>playDirection</th>\n",
       "      <th>x</th>\n",
       "      <th>y</th>\n",
       "      <th>s</th>\n",
       "      <th>a</th>\n",
       "      <th>dis</th>\n",
       "      <th>o</th>\n",
       "      <th>dir</th>\n",
       "      <th>event</th>\n",
       "    </tr>\n",
       "  </thead>\n",
       "  <tbody>\n",
       "    <tr>\n",
       "      <th>711505</th>\n",
       "      <td>2021102408</td>\n",
       "      <td>3720</td>\n",
       "      <td>37101.0</td>\n",
       "      <td>1</td>\n",
       "      <td>2021-10-24 23:15:56</td>\n",
       "      <td>2.0</td>\n",
       "      <td>HOU</td>\n",
       "      <td>right</td>\n",
       "      <td>51.98</td>\n",
       "      <td>5.97</td>\n",
       "      <td>0.0</td>\n",
       "      <td>0.0</td>\n",
       "      <td>0.0</td>\n",
       "      <td>97.69</td>\n",
       "      <td>96.44</td>\n",
       "      <td>None</td>\n",
       "    </tr>\n",
       "    <tr>\n",
       "      <th>711506</th>\n",
       "      <td>2021102408</td>\n",
       "      <td>3720</td>\n",
       "      <td>37101.0</td>\n",
       "      <td>2</td>\n",
       "      <td>2021-10-24 23:15:57</td>\n",
       "      <td>2.0</td>\n",
       "      <td>HOU</td>\n",
       "      <td>right</td>\n",
       "      <td>51.98</td>\n",
       "      <td>5.97</td>\n",
       "      <td>0.0</td>\n",
       "      <td>0.0</td>\n",
       "      <td>0.0</td>\n",
       "      <td>97.69</td>\n",
       "      <td>98.01</td>\n",
       "      <td>None</td>\n",
       "    </tr>\n",
       "    <tr>\n",
       "      <th>711507</th>\n",
       "      <td>2021102408</td>\n",
       "      <td>3720</td>\n",
       "      <td>37101.0</td>\n",
       "      <td>3</td>\n",
       "      <td>2021-10-24 23:15:57</td>\n",
       "      <td>2.0</td>\n",
       "      <td>HOU</td>\n",
       "      <td>right</td>\n",
       "      <td>51.98</td>\n",
       "      <td>5.97</td>\n",
       "      <td>0.0</td>\n",
       "      <td>0.0</td>\n",
       "      <td>0.0</td>\n",
       "      <td>98.42</td>\n",
       "      <td>95.12</td>\n",
       "      <td>None</td>\n",
       "    </tr>\n",
       "    <tr>\n",
       "      <th>711508</th>\n",
       "      <td>2021102408</td>\n",
       "      <td>3720</td>\n",
       "      <td>37101.0</td>\n",
       "      <td>4</td>\n",
       "      <td>2021-10-24 23:15:57</td>\n",
       "      <td>2.0</td>\n",
       "      <td>HOU</td>\n",
       "      <td>right</td>\n",
       "      <td>51.98</td>\n",
       "      <td>5.97</td>\n",
       "      <td>0.0</td>\n",
       "      <td>0.0</td>\n",
       "      <td>0.0</td>\n",
       "      <td>98.42</td>\n",
       "      <td>93.05</td>\n",
       "      <td>None</td>\n",
       "    </tr>\n",
       "    <tr>\n",
       "      <th>711509</th>\n",
       "      <td>2021102408</td>\n",
       "      <td>3720</td>\n",
       "      <td>37101.0</td>\n",
       "      <td>5</td>\n",
       "      <td>2021-10-24 23:15:57</td>\n",
       "      <td>2.0</td>\n",
       "      <td>HOU</td>\n",
       "      <td>right</td>\n",
       "      <td>51.98</td>\n",
       "      <td>5.97</td>\n",
       "      <td>0.0</td>\n",
       "      <td>0.0</td>\n",
       "      <td>0.0</td>\n",
       "      <td>98.42</td>\n",
       "      <td>93.09</td>\n",
       "      <td>None</td>\n",
       "    </tr>\n",
       "  </tbody>\n",
       "</table>\n",
       "</div>"
      ],
      "text/plain": [
       "            gameId  playId    nflId  frameId                 time  \\\n",
       "711505  2021102408    3720  37101.0        1  2021-10-24 23:15:56   \n",
       "711506  2021102408    3720  37101.0        2  2021-10-24 23:15:57   \n",
       "711507  2021102408    3720  37101.0        3  2021-10-24 23:15:57   \n",
       "711508  2021102408    3720  37101.0        4  2021-10-24 23:15:57   \n",
       "711509  2021102408    3720  37101.0        5  2021-10-24 23:15:57   \n",
       "\n",
       "        jerseyNumber team playDirection      x     y    s    a  dis      o  \\\n",
       "711505           2.0  HOU         right  51.98  5.97  0.0  0.0  0.0  97.69   \n",
       "711506           2.0  HOU         right  51.98  5.97  0.0  0.0  0.0  97.69   \n",
       "711507           2.0  HOU         right  51.98  5.97  0.0  0.0  0.0  98.42   \n",
       "711508           2.0  HOU         right  51.98  5.97  0.0  0.0  0.0  98.42   \n",
       "711509           2.0  HOU         right  51.98  5.97  0.0  0.0  0.0  98.42   \n",
       "\n",
       "          dir event  \n",
       "711505  96.44  None  \n",
       "711506  98.01  None  \n",
       "711507  95.12  None  \n",
       "711508  93.05  None  \n",
       "711509  93.09  None  "
      ]
     },
     "execution_count": 13,
     "metadata": {},
     "output_type": "execute_result"
    }
   ],
   "source": [
    "play_df.head()"
   ]
  },
  {
   "cell_type": "code",
   "execution_count": null,
   "metadata": {},
   "outputs": [],
   "source": []
  },
  {
   "cell_type": "code",
   "execution_count": null,
   "metadata": {},
   "outputs": [],
   "source": []
  },
  {
   "cell_type": "code",
   "execution_count": null,
   "metadata": {},
   "outputs": [],
   "source": []
  },
  {
   "cell_type": "code",
   "execution_count": null,
   "metadata": {},
   "outputs": [],
   "source": []
  },
  {
   "cell_type": "code",
   "execution_count": 48,
   "metadata": {},
   "outputs": [],
   "source": [
    "# from importlib import reload\n",
    "\n",
    "# def importOrReload(module_name, *names):\n",
    "#     import sys\n",
    "\n",
    "#     if module_name in sys.modules:\n",
    "#         reload(sys.modules[module_name])\n",
    "#     else:\n",
    "#         __import__(module_name, fromlist=names)\n",
    "\n",
    "#     for name in names:\n",
    "#         globals()[name] = getattr(sys.modules[module_name], name)\n",
    "        \n",
    "# importOrReload(\"temp\", \"AnimatePlay\")\n"
   ]
  },
  {
   "cell_type": "code",
   "execution_count": null,
   "metadata": {},
   "outputs": [],
   "source": []
  },
  {
   "cell_type": "code",
   "execution_count": null,
   "metadata": {},
   "outputs": [],
   "source": []
  },
  {
   "cell_type": "code",
   "execution_count": null,
   "metadata": {},
   "outputs": [],
   "source": []
  }
 ],
 "metadata": {
  "kernelspec": {
   "display_name": "Python 3.8.13 ('bdb_2023')",
   "language": "python",
   "name": "python3"
  },
  "language_info": {
   "codemirror_mode": {
    "name": "ipython",
    "version": 3
   },
   "file_extension": ".py",
   "mimetype": "text/x-python",
   "name": "python",
   "nbconvert_exporter": "python",
   "pygments_lexer": "ipython3",
   "version": "3.8.13"
  },
  "orig_nbformat": 4,
  "vscode": {
   "interpreter": {
    "hash": "64e913be5900ee3bfd48533456727a82d0e0b84d6c12de93770bb09b0509b267"
   }
  }
 },
 "nbformat": 4,
 "nbformat_minor": 2
}
