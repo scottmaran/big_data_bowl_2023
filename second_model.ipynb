{
 "cells": [
  {
   "cell_type": "code",
   "execution_count": 17,
   "metadata": {},
   "outputs": [],
   "source": [
    "import pandas as pd\n",
    "import numpy as np\n",
    "\n",
    "import tensorflow as tf\n",
    "import tensorflow.keras.layers as tfl"
   ]
  },
  {
   "cell_type": "code",
   "execution_count": 18,
   "metadata": {},
   "outputs": [],
   "source": [
    "from tensorflow.keras.models import Model\n",
    "from tensorflow.keras.optimizers import Adam"
   ]
  },
  {
   "cell_type": "code",
   "execution_count": 19,
   "metadata": {},
   "outputs": [],
   "source": [
    "\n",
    "\n",
    "x_train = np.load(\"./cleaned_data/x_train.npy\")\n",
    "y_train = np.load(\"./cleaned_data/y_train.npy\")\n",
    "train_mu = np.load(\"./cleaned_data/train_mu.npy\")\n",
    "train_std = np.load(\"./cleaned_data/train_std.npy\")\n",
    "x_val = np.load(\"./cleaned_data/x_val.npy\")\n",
    "y_val= np.load(\"./cleaned_data/y_val.npy\")\n"
   ]
  },
  {
   "cell_type": "code",
   "execution_count": 20,
   "metadata": {},
   "outputs": [],
   "source": [
    "import keras.backend as K\n",
    "\n",
    "def my_loss(y_true, y_pred):\n",
    "    bce = tf.keras.losses.BinaryCrossentropy(from_logits=False)\n",
    "    mse = tf.keras.losses.MeanSquaredError()\n",
    "    return bce(y_true[:,0:-1], y_pred[:,0:-1]) + mse(y_true[:,-1], y_pred[:,-1])\n",
    "\n",
    "def bce_metric(y_true, y_pred):\n",
    "    return K.mean(K.binary_crossentropy(y_true[:,0:-1], y_pred[:,0:-1], from_logits=False))\n",
    "\n",
    "def mse_metric(y_true, y_pred):\n",
    "    return K.mean(K.square(y_pred[:,-1] - y_true[:,-1]), axis=-1)\n",
    "\n",
    "# https://stackoverflow.com/questions/43547402/how-to-calculate-f1-macro-in-keras\n",
    "def recall(y_true, y_pred):\n",
    "    true_positives = K.sum(K.round(K.clip(y_true[:,0] * y_pred[:,0], 0, 1)))\n",
    "    possible_positives = K.sum(K.round(K.clip(y_true[:,0], 0, 1)))\n",
    "    recall = true_positives / (possible_positives + K.epsilon())\n",
    "    return recall\n",
    "\n",
    "def precision(y_true, y_pred):\n",
    "    true_positives = K.sum(K.round(K.clip(y_true[:,0] * y_pred[:,0], 0, 1)))\n",
    "    predicted_positives = K.sum(K.round(K.clip(y_pred[:,0], 0, 1)))\n",
    "    precision = true_positives / (predicted_positives + K.epsilon())\n",
    "    return precision\n"
   ]
  },
  {
   "cell_type": "code",
   "execution_count": 21,
   "metadata": {},
   "outputs": [
    {
     "data": {
      "text/plain": [
       "' \\nModel\\n\\nhow cropping layer works - https://github.com/christianversloot/machine-learning-articles/blob/main/how-to-use-cropping-layers-with-keras.md\\n'"
      ]
     },
     "execution_count": 21,
     "metadata": {},
     "output_type": "execute_result"
    }
   ],
   "source": [
    "''' \n",
    "Model\n",
    "\n",
    "how cropping layer works - https://github.com/christianversloot/machine-learning-articles/blob/main/how-to-use-cropping-layers-with-keras.md\n",
    "'''"
   ]
  },
  {
   "cell_type": "code",
   "execution_count": 22,
   "metadata": {},
   "outputs": [],
   "source": [
    "def createModel(input_shape = (23,7)):\n",
    "    \n",
    "    X = tfl.Input(input_shape)  # define the input to the model\n",
    "    flat = tfl.Flatten(input_shape=(23, 7))(X)     # Flatten to pass into linear layers\n",
    "    d1 = tfl.Dense(1000, activation='relu')(flat)\n",
    "    d2 = tfl.Dense(500, activation='relu')(d1)\n",
    "    d3 = tfl.Dense(250, activation='relu')(d2)\n",
    "    d4 = tfl.Dense(100, activation='relu')(d3)\n",
    "    d5 = tfl.Dense(3,activation=None)(d4)\n",
    "    \n",
    "    # have layer (batch_size, 3). Want to take (b, [0,1]) and turn them into probabilities, and keep (b, [2]) as time\n",
    "    # https://datascience.stackexchange.com/questions/86740/how-to-slice-an-input-in-keras\n",
    "    intermediate = tfl.Reshape((3,1), input_shape=(3,))(d5)\n",
    "    \n",
    "    probs = tfl.Cropping1D(cropping=(0,1))(intermediate)\n",
    "    probs = tfl.Activation('softmax')(probs)\n",
    "    probs = tfl.Reshape((2,), input_shape=(2,1))(probs)\n",
    "    \n",
    "    time = tfl.Cropping1D(cropping=(2,0))(intermediate)\n",
    "    time = tfl.Reshape((1,), input_shape=(1,1))(time)\n",
    "    \n",
    "    # concatenate the probabilities and predicted_time_to_sack back into one layer\n",
    "    out = tfl.Concatenate(axis=-1)([probs, time])\n",
    "    \n",
    "    model = Model(inputs=X, outputs=out)        # create model\n",
    "    \n",
    "    return model"
   ]
  },
  {
   "cell_type": "code",
   "execution_count": 23,
   "metadata": {},
   "outputs": [
    {
     "data": {
      "text/plain": [
       "\" \\nDidn't really work\\n\""
      ]
     },
     "execution_count": 23,
     "metadata": {},
     "output_type": "execute_result"
    }
   ],
   "source": [
    "''' \n",
    "Didn't really work\n",
    "'''\n",
    "\n",
    "# def createModel(input_shape = (23,7)):\n",
    "    \n",
    "#     X = tfl.Input(input_shape)  # define the input to the model\n",
    "#     flat = tfl.Flatten(input_shape=(23, 7))(X)     # Flatten to pass into linear layers\n",
    "#     d1 = tfl.Dense(100, activation='relu')(flat)\n",
    "#     d2 = tfl.Dense(80, activation='relu')(d1)\n",
    "#     d3 = tfl.Dense(3,activation=None)(d2)\n",
    "    \n",
    "#     # have layer (batch_size, 3). Want to take (b, [0,1]) and turn them into probabilities, and keep (b, [2]) as time\n",
    "#     # https://datascience.stackexchange.com/questions/86740/how-to-slice-an-input-in-keras\n",
    "#     intermediate = tfl.Reshape((3,1), input_shape=(3,))(d3)\n",
    "    \n",
    "#     probs = tfl.Cropping1D(cropping=(0,1))(intermediate)\n",
    "#     probs = tfl.Activation('softmax')(probs)\n",
    "#     probs = tfl.Reshape((2,), input_shape=(2,1))(probs)\n",
    "    \n",
    "#     time = tfl.Cropping1D(cropping=(2,0))(intermediate)\n",
    "#     time = tfl.Reshape((1,), input_shape=(1,1))(time)\n",
    "    \n",
    "#     # concatenate the probabilities and predicted_time_to_sack back into one layer\n",
    "#     out = tfl.Concatenate(axis=-1)([probs, time])\n",
    "    \n",
    "#     model = Model(inputs=X, outputs=out)        # create model\n",
    "    \n",
    "#     return model\n",
    "    "
   ]
  },
  {
   "cell_type": "code",
   "execution_count": 24,
   "metadata": {},
   "outputs": [
    {
     "name": "stdout",
     "output_type": "stream",
     "text": [
      "Model: \"model_1\"\n",
      "__________________________________________________________________________________________________\n",
      " Layer (type)                   Output Shape         Param #     Connected to                     \n",
      "==================================================================================================\n",
      " input_2 (InputLayer)           [(None, 23, 7)]      0           []                               \n",
      "                                                                                                  \n",
      " flatten_1 (Flatten)            (None, 161)          0           ['input_2[0][0]']                \n",
      "                                                                                                  \n",
      " dense_3 (Dense)                (None, 1000)         162000      ['flatten_1[0][0]']              \n",
      "                                                                                                  \n",
      " dense_4 (Dense)                (None, 500)          500500      ['dense_3[0][0]']                \n",
      "                                                                                                  \n",
      " dense_5 (Dense)                (None, 250)          125250      ['dense_4[0][0]']                \n",
      "                                                                                                  \n",
      " dense_6 (Dense)                (None, 100)          25100       ['dense_5[0][0]']                \n",
      "                                                                                                  \n",
      " dense_7 (Dense)                (None, 3)            303         ['dense_6[0][0]']                \n",
      "                                                                                                  \n",
      " reshape_3 (Reshape)            (None, 3, 1)         0           ['dense_7[0][0]']                \n",
      "                                                                                                  \n",
      " cropping1d_2 (Cropping1D)      (None, 2, 1)         0           ['reshape_3[0][0]']              \n",
      "                                                                                                  \n",
      " activation_1 (Activation)      (None, 2, 1)         0           ['cropping1d_2[0][0]']           \n",
      "                                                                                                  \n",
      " cropping1d_3 (Cropping1D)      (None, 1, 1)         0           ['reshape_3[0][0]']              \n",
      "                                                                                                  \n",
      " reshape_4 (Reshape)            (None, 2)            0           ['activation_1[0][0]']           \n",
      "                                                                                                  \n",
      " reshape_5 (Reshape)            (None, 1)            0           ['cropping1d_3[0][0]']           \n",
      "                                                                                                  \n",
      " concatenate_1 (Concatenate)    (None, 3)            0           ['reshape_4[0][0]',              \n",
      "                                                                  'reshape_5[0][0]']              \n",
      "                                                                                                  \n",
      "==================================================================================================\n",
      "Total params: 813,153\n",
      "Trainable params: 813,153\n",
      "Non-trainable params: 0\n",
      "__________________________________________________________________________________________________\n",
      "None\n"
     ]
    }
   ],
   "source": [
    "model = createModel()\n",
    "\n",
    "print(model.summary())"
   ]
  },
  {
   "cell_type": "code",
   "execution_count": 25,
   "metadata": {},
   "outputs": [],
   "source": [
    "opt = Adam(0.005)\n",
    "\n",
    "model.compile(loss = my_loss, optimizer = opt, metrics = [bce_metric, mse_metric, recall, precision])"
   ]
  },
  {
   "cell_type": "code",
   "execution_count": 26,
   "metadata": {},
   "outputs": [
    {
     "data": {
      "text/plain": [
       "array([[ 1. ,  0.3],\n",
       "       [ 0. , -1. ],\n",
       "       [ 0. , -1. ]])"
      ]
     },
     "execution_count": 26,
     "metadata": {},
     "output_type": "execute_result"
    }
   ],
   "source": [
    "y_train[0:3]"
   ]
  },
  {
   "cell_type": "code",
   "execution_count": 27,
   "metadata": {},
   "outputs": [
    {
     "name": "stdout",
     "output_type": "stream",
     "text": [
      "Epoch 1/5\n",
      "6146/6146 [==============================] - 54s 8ms/step - loss: 15.1321 - bce_metric: 14.0111 - mse_metric: 1.1215 - recall: 0.9323 - precision: 0.0812\n",
      "Epoch 2/5\n",
      "6146/6146 [==============================] - 49s 8ms/step - loss: 15.0752 - bce_metric: 14.0111 - mse_metric: 1.0646 - recall: 0.9325 - precision: 0.0812\n",
      "Epoch 3/5\n",
      "6146/6146 [==============================] - 61s 10ms/step - loss: 15.0842 - bce_metric: 14.0111 - mse_metric: 1.0742 - recall: 0.9331 - precision: 0.0812\n",
      "Epoch 4/5\n",
      "6146/6146 [==============================] - 85s 14ms/step - loss: 15.0842 - bce_metric: 14.0113 - mse_metric: 1.0734 - recall: 0.9313 - precision: 0.0812\n",
      "Epoch 5/5\n",
      "6146/6146 [==============================] - 59s 10ms/step - loss: 15.0842 - bce_metric: 14.0113 - mse_metric: 1.0734 - recall: 0.9339 - precision: 0.0812\n"
     ]
    }
   ],
   "source": [
    "NUM_EPOCHS = 5\n",
    "history = model.fit(x_train[:,:,4:], y_train, epochs=NUM_EPOCHS)"
   ]
  },
  {
   "cell_type": "code",
   "execution_count": 13,
   "metadata": {},
   "outputs": [
    {
     "name": "stdout",
     "output_type": "stream",
     "text": [
      "1317/1317 - 2s - loss: 15.3060 - bce_metric: 14.0830 - mse_metric: 1.2230 - recall: 0.1245 - precision: 0.0765 - 2s/epoch - 1ms/step\n"
     ]
    }
   ],
   "source": [
    "val_loss, val_bce, val_mse, val_recall, val_precision = model.evaluate(x_val[:,:,4:], y_val, verbose=2)\n",
    "\n",
    "metrics_df = pd.DataFrame(history.history)\n"
   ]
  },
  {
   "cell_type": "code",
   "execution_count": 14,
   "metadata": {},
   "outputs": [
    {
     "data": {
      "text/html": [
       "<div>\n",
       "<style scoped>\n",
       "    .dataframe tbody tr th:only-of-type {\n",
       "        vertical-align: middle;\n",
       "    }\n",
       "\n",
       "    .dataframe tbody tr th {\n",
       "        vertical-align: top;\n",
       "    }\n",
       "\n",
       "    .dataframe thead th {\n",
       "        text-align: right;\n",
       "    }\n",
       "</style>\n",
       "<table border=\"1\" class=\"dataframe\">\n",
       "  <thead>\n",
       "    <tr style=\"text-align: right;\">\n",
       "      <th></th>\n",
       "      <th>loss</th>\n",
       "      <th>bce_metric</th>\n",
       "      <th>mse_metric</th>\n",
       "      <th>recall</th>\n",
       "      <th>precision</th>\n",
       "    </tr>\n",
       "  </thead>\n",
       "  <tbody>\n",
       "    <tr>\n",
       "      <th>0</th>\n",
       "      <td>14.454342</td>\n",
       "      <td>14.011061</td>\n",
       "      <td>0.443690</td>\n",
       "      <td>0.937032</td>\n",
       "      <td>0.081232</td>\n",
       "    </tr>\n",
       "    <tr>\n",
       "      <th>1</th>\n",
       "      <td>14.364884</td>\n",
       "      <td>14.011292</td>\n",
       "      <td>0.354240</td>\n",
       "      <td>0.932151</td>\n",
       "      <td>0.081216</td>\n",
       "    </tr>\n",
       "    <tr>\n",
       "      <th>2</th>\n",
       "      <td>14.306222</td>\n",
       "      <td>14.011292</td>\n",
       "      <td>0.295580</td>\n",
       "      <td>0.929873</td>\n",
       "      <td>0.081216</td>\n",
       "    </tr>\n",
       "    <tr>\n",
       "      <th>3</th>\n",
       "      <td>14.268247</td>\n",
       "      <td>14.011292</td>\n",
       "      <td>0.257634</td>\n",
       "      <td>0.930361</td>\n",
       "      <td>0.081216</td>\n",
       "    </tr>\n",
       "    <tr>\n",
       "      <th>4</th>\n",
       "      <td>14.235659</td>\n",
       "      <td>14.011061</td>\n",
       "      <td>0.225058</td>\n",
       "      <td>0.935242</td>\n",
       "      <td>0.081232</td>\n",
       "    </tr>\n",
       "  </tbody>\n",
       "</table>\n",
       "</div>"
      ],
      "text/plain": [
       "        loss  bce_metric  mse_metric    recall  precision\n",
       "0  14.454342   14.011061    0.443690  0.937032   0.081232\n",
       "1  14.364884   14.011292    0.354240  0.932151   0.081216\n",
       "2  14.306222   14.011292    0.295580  0.929873   0.081216\n",
       "3  14.268247   14.011292    0.257634  0.930361   0.081216\n",
       "4  14.235659   14.011061    0.225058  0.935242   0.081232"
      ]
     },
     "execution_count": 14,
     "metadata": {},
     "output_type": "execute_result"
    }
   ],
   "source": [
    "metrics_df"
   ]
  },
  {
   "cell_type": "code",
   "execution_count": 15,
   "metadata": {},
   "outputs": [
    {
     "name": "stdout",
     "output_type": "stream",
     "text": [
      "val loss = 15.306021690368652\n",
      "val_bce = 14.083005905151367\n",
      "val_mse = 1.2229914665222168\n",
      "val_recall = 0.12452543526887894\n",
      "val_precision = 0.07647588849067688\n"
     ]
    }
   ],
   "source": [
    "print(f\"val loss = {val_loss}\")\n",
    "print(f\"val_bce = {val_bce}\")\n",
    "print(f\"val_mse = {val_mse}\")\n",
    "print(f\"val_recall = {val_recall}\")\n",
    "print(f\"val_precision = {val_precision}\")"
   ]
  },
  {
   "cell_type": "code",
   "execution_count": 16,
   "metadata": {},
   "outputs": [],
   "source": [
    "# https://www.kdnuggets.com/2021/02/saving-loading-models-tensorflow.html\n",
    "\n",
    "model_string = f\"models/second_model/weights_epochs{NUM_EPOCHS}\"\n",
    "model.save_weights(model_string)"
   ]
  },
  {
   "cell_type": "code",
   "execution_count": null,
   "metadata": {},
   "outputs": [],
   "source": []
  }
 ],
 "metadata": {
  "kernelspec": {
   "display_name": "Python 3.8.13 ('bdb_2023')",
   "language": "python",
   "name": "python3"
  },
  "language_info": {
   "codemirror_mode": {
    "name": "ipython",
    "version": 3
   },
   "file_extension": ".py",
   "mimetype": "text/x-python",
   "name": "python",
   "nbconvert_exporter": "python",
   "pygments_lexer": "ipython3",
   "version": "3.8.13"
  },
  "orig_nbformat": 4,
  "vscode": {
   "interpreter": {
    "hash": "64e913be5900ee3bfd48533456727a82d0e0b84d6c12de93770bb09b0509b267"
   }
  }
 },
 "nbformat": 4,
 "nbformat_minor": 2
}
