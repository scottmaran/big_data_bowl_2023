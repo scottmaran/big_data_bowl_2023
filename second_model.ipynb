{
 "cells": [
  {
   "cell_type": "code",
   "execution_count": 1,
   "metadata": {},
   "outputs": [
    {
     "name": "stderr",
     "output_type": "stream",
     "text": [
      "2022-12-06 12:46:58.426685: I tensorflow/core/platform/cpu_feature_guard.cc:193] This TensorFlow binary is optimized with oneAPI Deep Neural Network Library (oneDNN) to use the following CPU instructions in performance-critical operations:  AVX2 FMA\n",
      "To enable them in other operations, rebuild TensorFlow with the appropriate compiler flags.\n"
     ]
    }
   ],
   "source": [
    "import pandas as pd\n",
    "import numpy as np\n",
    "\n",
    "import tensorflow as tf\n",
    "import tensorflow.keras.layers as tfl"
   ]
  },
  {
   "cell_type": "code",
   "execution_count": 2,
   "metadata": {},
   "outputs": [],
   "source": [
    "from tensorflow.keras.models import Model\n",
    "import tensorflow.keras.optimizers as optimizers\n",
    "import tensorflow.keras.metrics as metrics"
   ]
  },
  {
   "cell_type": "code",
   "execution_count": 3,
   "metadata": {},
   "outputs": [],
   "source": [
    "\n",
    "x_train = np.load(\"./cleaned_data/small/x_train.npy\")\n",
    "y_train = np.load(\"./cleaned_data/small/y_train.npy\")\n",
    "train_mu = np.load(\"./cleaned_data/small/train_mu.npy\")\n",
    "train_std = np.load(\"./cleaned_data/small/train_std.npy\")\n",
    "x_val = np.load(\"./cleaned_data/small/x_val.npy\")\n",
    "y_val= np.load(\"./cleaned_data/small/y_val.npy\")\n"
   ]
  },
  {
   "cell_type": "code",
   "execution_count": 4,
   "metadata": {},
   "outputs": [
    {
     "data": {
      "text/plain": [
       "(5991, 23, 11)"
      ]
     },
     "execution_count": 4,
     "metadata": {},
     "output_type": "execute_result"
    }
   ],
   "source": [
    "# y = [no sack, sack, time to sack]\n",
    "# x = (M, 23, 11)\n",
    "x_train.shape"
   ]
  },
  {
   "cell_type": "code",
   "execution_count": 26,
   "metadata": {},
   "outputs": [],
   "source": [
    "import keras.backend as K\n",
    "\n",
    "def my_loss(y_true, y_output):\n",
    "    bce = tf.keras.losses.CategoricalCrossentropy(from_logits=False)\n",
    "    mse = tf.keras.losses.MeanSquaredError()\n",
    "    \n",
    "    # get mse of only true positives\n",
    "    true_sack_mask = y_true[:1]==1\n",
    "    # checked, mse function can take in array of length zero\n",
    "    return bce(y_true[:,0:-1], y_output[:,0:-1]) + mse(y_true[true_sack_mask], y_output[true_sack_mask])\n",
    "\n",
    "def bce_metric(y_true, y_output):\n",
    "    return K.mean(K.binary_crossentropy(y_true[:,0:-1], y_output[:,0:-1], from_logits=False))\n",
    "\n",
    "def mse_metric(y_true, y_output):\n",
    "    # get mse of only true positives\n",
    "    true_sack_mask = y_true[:1]==1\n",
    "    return K.mean(K.square(y_true[true_sack_mask] - y_output[true_sack_mask]), axis=-1)\n",
    "    # return K.mean(K.square(y_pred[:,-1] - y_true[:,-1]), axis=-1)\n",
    "    \n",
    "def accuracy_metric(y_true, y_output):\n",
    "    preds = K.cast(K.argmax(y_output[:,0:-1], axis=-1), 'float32')\n",
    "    return K.mean(K.cast(y_true[:,1] == preds, 'float32'))\n",
    "\n",
    "# https://stackoverflow.com/questions/43547402/how-to-calculate-f1-macro-in-keras\n",
    "def recall(y_true, y_output):\n",
    "    preds = K.cast(K.argmax(y_output[:,0:-1], axis=-1), 'float32')\n",
    "    true_positives = K.sum(K.round(K.clip(y_true[:,1] * preds, 0, 1)))\n",
    "    possible_positives = K.sum(K.round(K.clip(y_true[:,1], 0, 1)))\n",
    "    recall = true_positives / (possible_positives + K.epsilon())\n",
    "    return recall\n",
    "\n",
    "def precision(y_true, y_output):\n",
    "    preds = K.cast(K.argmax(y_output[:,0:-1], axis=-1), 'float32')\n",
    "    true_positives = K.sum(K.round(K.clip(y_true[:,1] * preds, 0, 1)))\n",
    "    predicted_positives = K.sum(K.round(K.clip(preds, 0, 1)))\n",
    "    precision = true_positives / (predicted_positives + K.epsilon())\n",
    "    return precision\n"
   ]
  },
  {
   "cell_type": "code",
   "execution_count": 27,
   "metadata": {},
   "outputs": [
    {
     "data": {
      "text/plain": [
       "' \\nModel\\n\\nhow cropping layer works - https://github.com/christianversloot/machine-learning-articles/blob/main/how-to-use-cropping-layers-with-keras.md\\n'"
      ]
     },
     "execution_count": 27,
     "metadata": {},
     "output_type": "execute_result"
    }
   ],
   "source": [
    "''' \n",
    "Model\n",
    "\n",
    "how cropping layer works - https://github.com/christianversloot/machine-learning-articles/blob/main/how-to-use-cropping-layers-with-keras.md\n",
    "'''"
   ]
  },
  {
   "cell_type": "code",
   "execution_count": 28,
   "metadata": {},
   "outputs": [],
   "source": [
    "''' \n",
    "Output:\n",
    "[prob of no sack, prob of sack, time till sack]\n",
    "\n",
    "If predict no sack, doesn't matter what time is (recorded as -1 in training data)\n",
    "'''\n",
    "\n",
    "def createModel(input_shape = (23,7)):\n",
    "    \n",
    "    X = tfl.Input(input_shape)  # define the input to the model\n",
    "    flat = tfl.Flatten(input_shape=(23, 7))(X)     # Flatten to pass into linear layers\n",
    "    d1 = tfl.Dense(50, activation='relu')(flat)\n",
    "    d3 = tfl.Dense(3,activation=None)(d1)\n",
    "    \n",
    "    # have layer (batch_size, 3). Want to take (b, [0,1]) and turn them into probabilities, and keep (b, [2]) as time\n",
    "    # https://datascience.stackexchange.com/questions/86740/how-to-slice-an-input-in-keras\n",
    "    intermediate = tfl.Reshape((3,1), input_shape=(3,))(d3)\n",
    "    \n",
    "    probs = tfl.Cropping1D(cropping=(0,1))(intermediate)\n",
    "    probs = tfl.Reshape((2,), input_shape=(2,1))(probs)\n",
    "    probs = tfl.Activation('softmax')(probs)\n",
    "    \n",
    "    time = tfl.Cropping1D(cropping=(2,0))(intermediate)\n",
    "    time = tfl.Reshape((1,), input_shape=(1,1))(time)\n",
    "    \n",
    "    # concatenate the probabilities and predicted_time_to_sack back into one layer\n",
    "    out = tfl.Concatenate(axis=-1)([probs, time])\n",
    "    \n",
    "    model = Model(inputs=X, outputs=out)        # create model\n",
    "    \n",
    "    return model\n",
    "    "
   ]
  },
  {
   "cell_type": "code",
   "execution_count": 29,
   "metadata": {},
   "outputs": [
    {
     "name": "stdout",
     "output_type": "stream",
     "text": [
      "Model: \"model_3\"\n",
      "__________________________________________________________________________________________________\n",
      " Layer (type)                   Output Shape         Param #     Connected to                     \n",
      "==================================================================================================\n",
      " input_4 (InputLayer)           [(None, 23, 7)]      0           []                               \n",
      "                                                                                                  \n",
      " flatten_3 (Flatten)            (None, 161)          0           ['input_4[0][0]']                \n",
      "                                                                                                  \n",
      " dense_6 (Dense)                (None, 50)           8100        ['flatten_3[0][0]']              \n",
      "                                                                                                  \n",
      " dense_7 (Dense)                (None, 3)            153         ['dense_6[0][0]']                \n",
      "                                                                                                  \n",
      " reshape_9 (Reshape)            (None, 3, 1)         0           ['dense_7[0][0]']                \n",
      "                                                                                                  \n",
      " cropping1d_6 (Cropping1D)      (None, 2, 1)         0           ['reshape_9[0][0]']              \n",
      "                                                                                                  \n",
      " reshape_10 (Reshape)           (None, 2)            0           ['cropping1d_6[0][0]']           \n",
      "                                                                                                  \n",
      " cropping1d_7 (Cropping1D)      (None, 1, 1)         0           ['reshape_9[0][0]']              \n",
      "                                                                                                  \n",
      " activation_3 (Activation)      (None, 2)            0           ['reshape_10[0][0]']             \n",
      "                                                                                                  \n",
      " reshape_11 (Reshape)           (None, 1)            0           ['cropping1d_7[0][0]']           \n",
      "                                                                                                  \n",
      " concatenate_3 (Concatenate)    (None, 3)            0           ['activation_3[0][0]',           \n",
      "                                                                  'reshape_11[0][0]']             \n",
      "                                                                                                  \n",
      "==================================================================================================\n",
      "Total params: 8,253\n",
      "Trainable params: 8,253\n",
      "Non-trainable params: 0\n",
      "__________________________________________________________________________________________________\n",
      "None\n"
     ]
    }
   ],
   "source": [
    "model = createModel()\n",
    "\n",
    "print(model.summary())"
   ]
  },
  {
   "cell_type": "code",
   "execution_count": 30,
   "metadata": {},
   "outputs": [],
   "source": [
    "LEARNING_RATE = 0.001\n",
    "BETA_1 = 0.9\n",
    "BETA_2 = 0.999\n",
    "EPS = 1e-07\n",
    "\n",
    "opt = optimizers.Adam(\n",
    "    learning_rate=LEARNING_RATE,\n",
    "    beta_1=BETA_1,\n",
    "    beta_2=BETA_2,\n",
    "    epsilon=EPS)\n",
    "\n",
    "model.compile(loss = my_loss, optimizer = opt, metrics = [accuracy_metric, bce_metric, mse_metric, recall, precision])"
   ]
  },
  {
   "cell_type": "code",
   "execution_count": 31,
   "metadata": {},
   "outputs": [],
   "source": [
    "# Better optimizer\n",
    "\n",
    "lr_schedule = optimizers.schedules.ExponentialDecay(\n",
    "    initial_learning_rate=LEARNING_RATE,\n",
    "    decay_steps=10000,\n",
    "    decay_rate=0.9)\n",
    "\n",
    "scheduled_opt = optimizers.Adam(\n",
    "    learning_rate=lr_schedule,\n",
    "    beta_1=BETA_1,\n",
    "    beta_2=BETA_2,\n",
    "    epsilon=EPS)"
   ]
  },
  {
   "cell_type": "code",
   "execution_count": 32,
   "metadata": {},
   "outputs": [
    {
     "name": "stdout",
     "output_type": "stream",
     "text": [
      "Epoch 1/10\n",
      "188/188 [==============================] - 2s 2ms/step - loss: 0.3280 - accuracy_metric: 0.9403 - bce_metric: 0.2534 - mse_metric: 0.0735 - recall: 0.0000e+00 - precision: 0.0000e+00\n",
      "Epoch 2/10\n",
      "188/188 [==============================] - 0s 2ms/step - loss: 0.2730 - accuracy_metric: 0.9415 - bce_metric: 0.2224 - mse_metric: 0.0496 - recall: 0.0000e+00 - precision: 0.0000e+00\n",
      "Epoch 3/10\n",
      "188/188 [==============================] - 0s 2ms/step - loss: 0.2247 - accuracy_metric: 0.9415 - bce_metric: 0.2106 - mse_metric: 0.0134 - recall: 0.0027 - precision: 0.0053\n",
      "Epoch 4/10\n",
      "188/188 [==============================] - 0s 2ms/step - loss: 0.2580 - accuracy_metric: 0.9409 - bce_metric: 0.2051 - mse_metric: 0.0532 - recall: 0.0013 - precision: 0.0053\n",
      "Epoch 5/10\n",
      "188/188 [==============================] - 1s 3ms/step - loss: 0.2576 - accuracy_metric: 0.9425 - bce_metric: 0.1934 - mse_metric: 0.0635 - recall: 0.0130 - precision: 0.0319\n",
      "Epoch 6/10\n",
      "188/188 [==============================] - 0s 2ms/step - loss: 0.2305 - accuracy_metric: 0.9427 - bce_metric: 0.1883 - mse_metric: 0.0415 - recall: 0.0315 - precision: 0.0514\n",
      "Epoch 7/10\n",
      "188/188 [==============================] - 0s 2ms/step - loss: 0.2121 - accuracy_metric: 0.9445 - bce_metric: 0.1750 - mse_metric: 0.0364 - recall: 0.0463 - precision: 0.1117\n",
      "Epoch 8/10\n",
      "188/188 [==============================] - 0s 2ms/step - loss: 0.2297 - accuracy_metric: 0.9455 - bce_metric: 0.1688 - mse_metric: 0.0602 - recall: 0.0661 - precision: 0.1277\n",
      "Epoch 9/10\n",
      "188/188 [==============================] - 1s 4ms/step - loss: 0.2569 - accuracy_metric: 0.9459 - bce_metric: 0.1610 - mse_metric: 0.0972 - recall: 0.0926 - precision: 0.1729\n",
      "Epoch 10/10\n",
      "188/188 [==============================] - 0s 2ms/step - loss: 0.2250 - accuracy_metric: 0.9489 - bce_metric: 0.1511 - mse_metric: 0.0736 - recall: 0.1197 - precision: 0.2473\n"
     ]
    }
   ],
   "source": [
    "NUM_EPOCHS = 10\n",
    "history = model.fit(x_train[:,:,4:], y_train, epochs=NUM_EPOCHS)"
   ]
  },
  {
   "cell_type": "code",
   "execution_count": 33,
   "metadata": {},
   "outputs": [
    {
     "name": "stdout",
     "output_type": "stream",
     "text": [
      "Percentage of training plays with no sack = 0.941\n"
     ]
    }
   ],
   "source": [
    "train_no_sack = np.round(np.sum(y_train[:,0])/len(y_train), 3)\n",
    "print(f\"Percentage of training plays with no sack = {train_no_sack}\")"
   ]
  },
  {
   "cell_type": "code",
   "execution_count": 34,
   "metadata": {},
   "outputs": [
    {
     "name": "stdout",
     "output_type": "stream",
     "text": [
      "1/1 [==============================] - 0s 155ms/step\n"
     ]
    },
    {
     "data": {
      "text/plain": [
       "array([[ 0.9956393 ,  0.00436067,  0.5960429 ],\n",
       "       [ 0.9466307 ,  0.05336923,  0.24010435],\n",
       "       [ 0.9317543 ,  0.06824572, -0.2516085 ],\n",
       "       [ 0.82877773,  0.1712223 ,  1.6426669 ],\n",
       "       [ 0.87881196,  0.12118809,  1.266871  ]], dtype=float32)"
      ]
     },
     "execution_count": 34,
     "metadata": {},
     "output_type": "execute_result"
    }
   ],
   "source": [
    "model.predict(x_train[0:5,:,4:])"
   ]
  },
  {
   "cell_type": "code",
   "execution_count": 35,
   "metadata": {},
   "outputs": [],
   "source": [
    "metrics_df = pd.DataFrame(history.history)\n"
   ]
  },
  {
   "cell_type": "code",
   "execution_count": 36,
   "metadata": {},
   "outputs": [
    {
     "data": {
      "text/html": [
       "<div>\n",
       "<style scoped>\n",
       "    .dataframe tbody tr th:only-of-type {\n",
       "        vertical-align: middle;\n",
       "    }\n",
       "\n",
       "    .dataframe tbody tr th {\n",
       "        vertical-align: top;\n",
       "    }\n",
       "\n",
       "    .dataframe thead th {\n",
       "        text-align: right;\n",
       "    }\n",
       "</style>\n",
       "<table border=\"1\" class=\"dataframe\">\n",
       "  <thead>\n",
       "    <tr style=\"text-align: right;\">\n",
       "      <th></th>\n",
       "      <th>loss</th>\n",
       "      <th>accuracy_metric</th>\n",
       "      <th>bce_metric</th>\n",
       "      <th>mse_metric</th>\n",
       "      <th>recall</th>\n",
       "      <th>precision</th>\n",
       "    </tr>\n",
       "  </thead>\n",
       "  <tbody>\n",
       "    <tr>\n",
       "      <th>5</th>\n",
       "      <td>0.230476</td>\n",
       "      <td>0.942653</td>\n",
       "      <td>0.188273</td>\n",
       "      <td>0.041505</td>\n",
       "      <td>0.031472</td>\n",
       "      <td>0.051418</td>\n",
       "    </tr>\n",
       "    <tr>\n",
       "      <th>6</th>\n",
       "      <td>0.212052</td>\n",
       "      <td>0.944481</td>\n",
       "      <td>0.174995</td>\n",
       "      <td>0.036393</td>\n",
       "      <td>0.046277</td>\n",
       "      <td>0.111702</td>\n",
       "    </tr>\n",
       "    <tr>\n",
       "      <th>7</th>\n",
       "      <td>0.229667</td>\n",
       "      <td>0.945479</td>\n",
       "      <td>0.168753</td>\n",
       "      <td>0.060211</td>\n",
       "      <td>0.066076</td>\n",
       "      <td>0.127660</td>\n",
       "    </tr>\n",
       "    <tr>\n",
       "      <th>8</th>\n",
       "      <td>0.256913</td>\n",
       "      <td>0.945882</td>\n",
       "      <td>0.161015</td>\n",
       "      <td>0.097150</td>\n",
       "      <td>0.092553</td>\n",
       "      <td>0.172872</td>\n",
       "    </tr>\n",
       "    <tr>\n",
       "      <th>9</th>\n",
       "      <td>0.224968</td>\n",
       "      <td>0.948874</td>\n",
       "      <td>0.151122</td>\n",
       "      <td>0.073586</td>\n",
       "      <td>0.119681</td>\n",
       "      <td>0.247340</td>\n",
       "    </tr>\n",
       "  </tbody>\n",
       "</table>\n",
       "</div>"
      ],
      "text/plain": [
       "       loss  accuracy_metric  bce_metric  mse_metric    recall  precision\n",
       "5  0.230476         0.942653    0.188273    0.041505  0.031472   0.051418\n",
       "6  0.212052         0.944481    0.174995    0.036393  0.046277   0.111702\n",
       "7  0.229667         0.945479    0.168753    0.060211  0.066076   0.127660\n",
       "8  0.256913         0.945882    0.161015    0.097150  0.092553   0.172872\n",
       "9  0.224968         0.948874    0.151122    0.073586  0.119681   0.247340"
      ]
     },
     "execution_count": 36,
     "metadata": {},
     "output_type": "execute_result"
    }
   ],
   "source": [
    "metrics_df.tail()"
   ]
  },
  {
   "cell_type": "code",
   "execution_count": 37,
   "metadata": {},
   "outputs": [
    {
     "name": "stdout",
     "output_type": "stream",
     "text": [
      "Percentage of validation plays with no sack = 0.947\n"
     ]
    }
   ],
   "source": [
    "num_no_sack = np.round(np.sum(y_val[:,0])/len(y_val), 3)\n",
    "print(f\"Percentage of validation plays with no sack = {num_no_sack}\")"
   ]
  },
  {
   "cell_type": "code",
   "execution_count": 38,
   "metadata": {},
   "outputs": [
    {
     "name": "stdout",
     "output_type": "stream",
     "text": [
      "41/41 - 1s - loss: 0.3561 - accuracy_metric: 0.9405 - bce_metric: 0.2590 - mse_metric: 0.0896 - recall: 0.0110 - precision: 0.0366 - 633ms/epoch - 15ms/step\n"
     ]
    }
   ],
   "source": [
    "val_loss, cat_acc, val_bce, val_mse, val_recall, val_precision = model.evaluate(x_val[:,:,4:], y_val, verbose=2)"
   ]
  },
  {
   "cell_type": "code",
   "execution_count": 39,
   "metadata": {},
   "outputs": [
    {
     "name": "stdout",
     "output_type": "stream",
     "text": [
      "val loss = 0.35607048869132996\n",
      "categorical accuracy = 0.9405487775802612\n",
      "val_bce = 0.25898969173431396\n",
      "val_mse = 0.08964574337005615\n",
      "val_recall = 0.01097560953348875\n",
      "val_precision = 0.03658536449074745\n"
     ]
    }
   ],
   "source": [
    "\n",
    "print(f\"val loss = {val_loss}\")\n",
    "print(f\"categorical accuracy = {cat_acc}\")\n",
    "print(f\"val_bce = {val_bce}\")\n",
    "print(f\"val_mse = {val_mse}\")\n",
    "print(f\"val_recall = {val_recall}\")\n",
    "print(f\"val_precision = {val_precision}\")"
   ]
  },
  {
   "cell_type": "code",
   "execution_count": 40,
   "metadata": {},
   "outputs": [
    {
     "name": "stdout",
     "output_type": "stream",
     "text": [
      "41/41 [==============================] - 0s 2ms/step\n"
     ]
    },
    {
     "data": {
      "text/plain": [
       "array([0.8872072 , 0.9867906 , 0.8555738 , ..., 0.99581367, 0.9926259 ,\n",
       "       0.99644214], dtype=float32)"
      ]
     },
     "execution_count": 40,
     "metadata": {},
     "output_type": "execute_result"
    }
   ],
   "source": [
    "model.predict(x_val[:,:,4:])[:,0]"
   ]
  },
  {
   "cell_type": "code",
   "execution_count": 37,
   "metadata": {},
   "outputs": [],
   "source": [
    "# https://www.kdnuggets.com/2021/02/saving-loading-models-tensorflow.html\n",
    "\n",
    "model_string = f\"models/third_model/weights_epochs{NUM_EPOCHS}\"\n",
    "model.save_weights(model_string)"
   ]
  },
  {
   "cell_type": "code",
   "execution_count": null,
   "metadata": {},
   "outputs": [],
   "source": []
  }
 ],
 "metadata": {
  "kernelspec": {
   "display_name": "Python 3.8.13 ('bdb_2023')",
   "language": "python",
   "name": "python3"
  },
  "language_info": {
   "codemirror_mode": {
    "name": "ipython",
    "version": 3
   },
   "file_extension": ".py",
   "mimetype": "text/x-python",
   "name": "python",
   "nbconvert_exporter": "python",
   "pygments_lexer": "ipython3",
   "version": "3.8.13"
  },
  "orig_nbformat": 4,
  "vscode": {
   "interpreter": {
    "hash": "64e913be5900ee3bfd48533456727a82d0e0b84d6c12de93770bb09b0509b267"
   }
  }
 },
 "nbformat": 4,
 "nbformat_minor": 2
}
