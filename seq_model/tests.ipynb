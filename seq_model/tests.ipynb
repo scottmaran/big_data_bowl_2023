{
 "cells": [
  {
   "cell_type": "code",
   "execution_count": 1,
   "metadata": {},
   "outputs": [
    {
     "name": "stderr",
     "output_type": "stream",
     "text": [
      "2022-12-06 21:42:53.845072: I tensorflow/core/platform/cpu_feature_guard.cc:193] This TensorFlow binary is optimized with oneAPI Deep Neural Network Library (oneDNN) to use the following CPU instructions in performance-critical operations:  AVX2 FMA\n",
      "To enable them in other operations, rebuild TensorFlow with the appropriate compiler flags.\n"
     ]
    }
   ],
   "source": [
    "import pandas as pd\n",
    "import numpy as np\n",
    "\n",
    "import tensorflow as tf\n",
    "import tensorflow.keras.layers as tfl\n",
    "\n",
    "from tensorflow.keras.models import Model\n",
    "import tensorflow.keras.optimizers as optimizers\n",
    "import tensorflow.keras.metrics as metrics\n",
    "\n",
    "import keras.backend as K"
   ]
  },
  {
   "cell_type": "code",
   "execution_count": 2,
   "metadata": {},
   "outputs": [],
   "source": [
    "MAX_PLAY_LENGTH = 203"
   ]
  },
  {
   "cell_type": "code",
   "execution_count": 2,
   "metadata": {},
   "outputs": [],
   "source": [
    "feature_arr = np.load(\"./seq_data/feature_arr_ids.npy\")"
   ]
  },
  {
   "cell_type": "code",
   "execution_count": 8,
   "metadata": {},
   "outputs": [],
   "source": [
    "features_to_keep = ['gameId', 'playId', 'frameId', 'nflId', 'team_indicator', 'adj_x', 'adj_y', 's', 'a', 'adj_o', 'adj_dir']"
   ]
  },
  {
   "cell_type": "code",
   "execution_count": 4,
   "metadata": {},
   "outputs": [],
   "source": [
    "## Test to make sure data preprocessing was fine"
   ]
  },
  {
   "cell_type": "code",
   "execution_count": 5,
   "metadata": {},
   "outputs": [
    {
     "data": {
      "text/plain": [
       "(8558, 203, 253)"
      ]
     },
     "execution_count": 5,
     "metadata": {},
     "output_type": "execute_result"
    }
   ],
   "source": [
    "feature_arr.shape"
   ]
  },
  {
   "cell_type": "code",
   "execution_count": 6,
   "metadata": {},
   "outputs": [],
   "source": [
    "example_time_step = feature_arr[0][-1]\n",
    "\n",
    "assert example_time_step[0] > 2000  # should be a game id\n",
    "assert example_time_step[4] in [0,1,2]  # should be team indicator\n",
    "assert example_time_step[0] == example_time_step[0 + len(features_to_keep)]  # should be a game id\n",
    "assert example_time_step[4 + len(features_to_keep)] in [0,1,2]  # should be team indicator"
   ]
  },
  {
   "cell_type": "code",
   "execution_count": 7,
   "metadata": {},
   "outputs": [
    {
     "name": "stdout",
     "output_type": "stream",
     "text": [
      "(23, 11)\n",
      "[[ 2.0210909e+09  9.7000000e+01  4.0000000e+01  2.5511000e+04\n",
      "   1.0000000e+00  8.7310000e+01  6.1500000e+00  3.8300000e+00\n",
      "   9.4000000e-01  2.7900000e+00  1.1255000e+02]\n",
      " [ 2.0210909e+09  9.7000000e+01  4.0000000e+01  3.5481000e+04\n",
      "   1.0000000e+00  7.3120000e+01 -1.8020000e+01  6.2500000e+00\n",
      "   2.0900000e+00  1.5800000e+00  2.9624000e+02]\n",
      " [ 2.0210909e+09  9.7000000e+01  4.0000000e+01  3.5634000e+04\n",
      "   1.0000000e+00  6.5280000e+01 -1.4540000e+01  3.9500000e+00\n",
      "   2.9500000e+00  1.2110000e+01  6.2990000e+01]]\n"
     ]
    }
   ],
   "source": [
    "example_state_space = feature_arr[0][-1].reshape(-1, len(features_to_keep))\n",
    "print(example_state_space.shape)\n",
    "print(example_state_space[0:3])\n",
    "\n",
    "# looks good"
   ]
  },
  {
   "cell_type": "code",
   "execution_count": 8,
   "metadata": {},
   "outputs": [],
   "source": [
    "train_index_end = 6000\n",
    "val_index_end = 7300\n",
    "\n",
    "x_train = feature_arr[0:train_index_end, :, :]\n",
    "x_val = feature_arr[train_index_end:val_index_end, :, :]\n",
    "x_test = feature_arr[val_index_end:, :, :]\n",
    "\n",
    "x_train_shape = x_train.shape\n",
    "x_val_shape = x_val.shape\n",
    "x_test_shape = x_test.shape\n",
    "\n",
    "# looks good"
   ]
  },
  {
   "cell_type": "code",
   "execution_count": 9,
   "metadata": {},
   "outputs": [
    {
     "name": "stdout",
     "output_type": "stream",
     "text": [
      "(6000, 203, 253)\n",
      "(1300, 203, 253)\n",
      "(1258, 203, 253)\n"
     ]
    }
   ],
   "source": [
    "print(x_train.shape)\n",
    "print(x_val.shape)\n",
    "print(x_test.shape)\n",
    "\n"
   ]
  },
  {
   "cell_type": "code",
   "execution_count": 10,
   "metadata": {},
   "outputs": [
    {
     "data": {
      "text/plain": [
       "array([[2.0211017e+09, 2.3270000e+03, 2.8000000e+01, 4.3290000e+04,\n",
       "        1.0000000e+00, 8.5840000e+01, 1.8900000e+00, 6.8000000e-01,\n",
       "        1.5400000e+00, 1.5770000e+01, 2.5118000e+02],\n",
       "       [2.0211017e+09, 2.3270000e+03, 2.8000000e+01, 4.3299000e+04,\n",
       "        2.0000000e+00, 6.8830000e+01, 1.7170000e+01, 5.2500000e+00,\n",
       "        4.6100000e+00, 2.7461000e+02, 3.0631000e+02],\n",
       "       [2.0211017e+09, 2.3270000e+03, 2.8000000e+01, 4.3350000e+04,\n",
       "        2.0000000e+00, 6.8740000e+01, 4.3600000e+00, 2.5200000e+00,\n",
       "        7.4000000e-01, 2.1797000e+02, 2.7068000e+02]])"
      ]
     },
     "execution_count": 10,
     "metadata": {},
     "output_type": "execute_result"
    }
   ],
   "source": [
    "x_val[0][-1].reshape(-1, len(features_to_keep))[0:3,:]\n",
    "# val looks good"
   ]
  },
  {
   "cell_type": "code",
   "execution_count": 11,
   "metadata": {},
   "outputs": [],
   "source": [
    "train_mu = np.mean(x_train.reshape(-1,x_train.shape[-1]),axis=0)\n",
    "train_std = np.std(x_train.reshape(-1,x_train.shape[-1]),axis=0)\n",
    "train_std[train_std == 0] = 1"
   ]
  },
  {
   "cell_type": "code",
   "execution_count": 12,
   "metadata": {},
   "outputs": [
    {
     "name": "stdout",
     "output_type": "stream",
     "text": [
      "(253,)\n",
      "(253,)\n"
     ]
    }
   ],
   "source": [
    "print(train_mu.shape)\n",
    "print(train_std.shape)"
   ]
  },
  {
   "cell_type": "code",
   "execution_count": 14,
   "metadata": {},
   "outputs": [],
   "source": [
    "# This normalization didn't work - didn't preserve things correctly\n",
    "\n",
    "# x_train[:,:,5:] = ((x_train.reshape(-1,x_train.shape[-1])[:,5:] - train_mu[5:])/train_std[5:]).reshape((x_train_shape[0], x_train_shape[1], -1))\n",
    "# x_val[:,:,5:] = ((x_val.reshape(-1,x_val.shape[-1])[:,5:] - train_mu[5:])/train_std[5:]).reshape((x_val_shape[0], x_val_shape[1], -1))\n",
    "# x_test[:,:,5:] = ((x_test.reshape(-1,x_test.shape[-1])[:,5:] - train_mu[5:])/train_std[5:]).reshape((x_test_shape[0], x_test_shape[1], -1))"
   ]
  },
  {
   "cell_type": "code",
   "execution_count": 16,
   "metadata": {},
   "outputs": [],
   "source": [
    "x_test = np.load(\"./seq_unnorm_data/x_train.npy\")"
   ]
  },
  {
   "cell_type": "code",
   "execution_count": 17,
   "metadata": {},
   "outputs": [
    {
     "data": {
      "text/plain": [
       "(6000, 203, 253)"
      ]
     },
     "execution_count": 17,
     "metadata": {},
     "output_type": "execute_result"
    }
   ],
   "source": [
    "x_test.shape"
   ]
  },
  {
   "cell_type": "code",
   "execution_count": 18,
   "metadata": {},
   "outputs": [
    {
     "data": {
      "text/plain": [
       "array([[ 2.0211014e+09,  4.1900000e+02,  3.2000000e+01,  3.5441000e+04,\n",
       "         2.0000000e+00,  7.9280000e+01, -1.0300000e+00,  1.5100000e+00,\n",
       "         1.9000000e+00,  1.9496000e+02,  1.9643000e+02],\n",
       "       [ 2.0211014e+09,  4.1900000e+02,  3.2000000e+01,  3.5454000e+04,\n",
       "         2.0000000e+00,  8.2670000e+01,  2.0300000e+00,  2.0600000e+00,\n",
       "         4.8000000e+00,  1.1637000e+02,  1.3599000e+02],\n",
       "       [ 2.0211014e+09,  4.1900000e+02,  3.2000000e+01,  3.7229000e+04,\n",
       "         2.0000000e+00,  6.5510000e+01,  2.2470000e+01,  7.1000000e+00,\n",
       "         3.0500000e+00,  1.5810000e+01,  1.9920000e+01]])"
      ]
     },
     "execution_count": 18,
     "metadata": {},
     "output_type": "execute_result"
    }
   ],
   "source": [
    "x_test[0][-1].reshape(-1, len(features_to_keep))[0:3,:]"
   ]
  },
  {
   "cell_type": "code",
   "execution_count": 22,
   "metadata": {},
   "outputs": [
    {
     "data": {
      "text/plain": [
       "array([[  2.  ,  79.28,  -1.03,   1.51,   1.9 , 194.96, 196.43],\n",
       "       [  2.  ,  82.67,   2.03,   2.06,   4.8 , 116.37, 135.99],\n",
       "       [  2.  ,  65.51,  22.47,   7.1 ,   3.05,  15.81,  19.92]])"
      ]
     },
     "execution_count": 22,
     "metadata": {},
     "output_type": "execute_result"
    }
   ],
   "source": [
    "x_test.reshape(-1, MAX_PLAY_LENGTH, 23, 11)[:,:,:,4:].reshape(-1,MAX_PLAY_LENGTH,23*7)[0][-1].reshape(-1, 7)[0:3,:]"
   ]
  },
  {
   "cell_type": "code",
   "execution_count": null,
   "metadata": {},
   "outputs": [],
   "source": []
  },
  {
   "cell_type": "code",
   "execution_count": 15,
   "metadata": {},
   "outputs": [],
   "source": [
    "import copy"
   ]
  },
  {
   "cell_type": "code",
   "execution_count": 14,
   "metadata": {},
   "outputs": [
    {
     "data": {
      "text/plain": [
       "array([[ 2.0210909e+09,  9.7000000e+01,  4.0000000e+01,  2.5511000e+04,\n",
       "         1.0000000e+00,  8.7310000e+01,  6.1500000e+00,  3.8300000e+00,\n",
       "         9.4000000e-01,  2.7900000e+00,  1.1255000e+02],\n",
       "       [ 2.0210909e+09,  9.7000000e+01,  4.0000000e+01,  3.5481000e+04,\n",
       "         1.0000000e+00,  7.3120000e+01, -1.8020000e+01,  6.2500000e+00,\n",
       "         2.0900000e+00,  1.5800000e+00,  2.9624000e+02],\n",
       "       [ 2.0210909e+09,  9.7000000e+01,  4.0000000e+01,  3.5634000e+04,\n",
       "         1.0000000e+00,  6.5280000e+01, -1.4540000e+01,  3.9500000e+00,\n",
       "         2.9500000e+00,  1.2110000e+01,  6.2990000e+01]])"
      ]
     },
     "execution_count": 14,
     "metadata": {},
     "output_type": "execute_result"
    }
   ],
   "source": [
    "x_train.reshape(-1,x_train_shape[-1]).reshape(x_train_shape)[0][-1].reshape(-1, len(features_to_keep))[0:3,:]"
   ]
  },
  {
   "cell_type": "code",
   "execution_count": null,
   "metadata": {},
   "outputs": [],
   "source": [
    "cop = copy.deepcopy(x_train.reshape(-1,x_train_shape[-1]))\n",
    "\n",
    "cop[:]"
   ]
  },
  {
   "cell_type": "code",
   "execution_count": null,
   "metadata": {},
   "outputs": [],
   "source": []
  },
  {
   "cell_type": "code",
   "execution_count": null,
   "metadata": {},
   "outputs": [],
   "source": []
  },
  {
   "cell_type": "code",
   "execution_count": 50,
   "metadata": {},
   "outputs": [
    {
     "ename": "",
     "evalue": "",
     "output_type": "error",
     "traceback": [
      "\u001b[1;31mCanceled future for execute_request message before replies were done"
     ]
    },
    {
     "ename": "",
     "evalue": "",
     "output_type": "error",
     "traceback": [
      "\u001b[1;31mThe Kernel crashed while executing code in the the current cell or a previous cell. Please review the code in the cell(s) to identify a possible cause of the failure. Click <a href='https://aka.ms/vscodeJupyterKernelCrash'>here</a> for more info. View Jupyter <a href='command:jupyter.viewOutput'>log</a> for further details."
     ]
    }
   ],
   "source": [
    "x_train.flatten().reshape(x_train_shape)[0][-1].reshape(-1, len(features_to_keep))[0:3,:]"
   ]
  },
  {
   "cell_type": "code",
   "execution_count": 49,
   "metadata": {},
   "outputs": [
    {
     "data": {
      "text/plain": [
       "array([[0., 0., 0., 0., 0., 0., 0., 0., 0., 0., 0.],\n",
       "       [0., 0., 0., 0., 0., 0., 0., 0., 0., 0., 0.],\n",
       "       [0., 0., 0., 0., 0., 0., 0., 0., 0., 0., 0.]])"
      ]
     },
     "execution_count": 49,
     "metadata": {},
     "output_type": "execute_result"
    }
   ],
   "source": [
    "x_val.transpose(2,0,1).reshape(-1,x_val_shape[-1])[-1].reshape(-1, len(features_to_keep))[0:3,:]"
   ]
  },
  {
   "cell_type": "code",
   "execution_count": null,
   "metadata": {},
   "outputs": [],
   "source": []
  },
  {
   "cell_type": "code",
   "execution_count": 4,
   "metadata": {},
   "outputs": [
    {
     "data": {
      "text/plain": [
       "(1300, 203, 253)"
      ]
     },
     "execution_count": 4,
     "metadata": {},
     "output_type": "execute_result"
    }
   ],
   "source": [
    "x_val.shape"
   ]
  },
  {
   "cell_type": "code",
   "execution_count": 6,
   "metadata": {},
   "outputs": [
    {
     "data": {
      "text/plain": [
       "array([2.0211017e+09, 2.3270000e+03, 2.8000000e+01])"
      ]
     },
     "execution_count": 6,
     "metadata": {},
     "output_type": "execute_result"
    }
   ],
   "source": [
    "x_val[0][-1][0:3]"
   ]
  },
  {
   "cell_type": "code",
   "execution_count": 7,
   "metadata": {},
   "outputs": [
    {
     "data": {
      "text/plain": [
       "array([ 1.        ,  3.08189874,  0.62953999,  0.25165232,  1.54218847,\n",
       "       -0.1560783 ,  2.9113318 ])"
      ]
     },
     "execution_count": 7,
     "metadata": {},
     "output_type": "execute_result"
    }
   ],
   "source": [
    "x_val[0][-1][4:11]"
   ]
  },
  {
   "cell_type": "code",
   "execution_count": 8,
   "metadata": {},
   "outputs": [
    {
     "data": {
      "text/plain": [
       "array([2.11556175, 2.22141293, 2.59839161])"
      ]
     },
     "execution_count": 8,
     "metadata": {},
     "output_type": "execute_result"
    }
   ],
   "source": [
    "x_val[0][-1][12:15]"
   ]
  },
  {
   "cell_type": "code",
   "execution_count": 11,
   "metadata": {},
   "outputs": [
    {
     "data": {
      "text/plain": [
       "array([[ 2.02110170e+09,  2.32700000e+03,  2.80000000e+01,\n",
       "         4.32900000e+04,  1.00000000e+00,  3.08189874e+00,\n",
       "         6.29539994e-01,  2.51652325e-01,  1.54218847e+00,\n",
       "        -1.56078303e-01,  2.91133180e+00],\n",
       "       [ 2.27122355e+00,  2.11556175e+00,  2.22141293e+00,\n",
       "         2.59839161e+00,  2.90329814e+00,  2.43292136e+00,\n",
       "         5.21522985e+00,  3.75868070e+00,  4.90316604e+00,\n",
       "         3.11618021e+00,  3.51657135e+00],\n",
       "       [ 2.27122355e+00,  2.11556175e+00,  2.22141293e+00,\n",
       "         2.49403962e+00,  3.00990694e+00,  2.41502604e+00,\n",
       "         1.35101790e+00,  1.65503874e+00,  4.99064482e-01,\n",
       "         2.41492950e+00,  3.10048793e+00],\n",
       "       [ 2.27122355e+00,  2.11556175e+00,  2.22141293e+00,\n",
       "         2.42682690e+00,  1.32100520e+00,  3.06011713e+00,\n",
       "         1.32380887e+00,  1.90062185e+00,  2.28180766e+00,\n",
       "         4.00283831e+00,  1.94254024e+00],\n",
       "       [ 2.27122355e+00,  2.11556175e+00,  2.22141293e+00,\n",
       "         2.37355049e+00,  3.00450381e+00,  3.03113621e+00,\n",
       "         1.19796790e+00,  2.31376168e+00,  1.30823188e+00,\n",
       "         1.42785137e+00,  2.24618740e+00],\n",
       "       [ 2.27122355e+00,  2.11556175e+00,  2.22141293e+00,\n",
       "         2.34139238e+00,  1.29201281e+00,  2.48079086e+00,\n",
       "        -5.93094950e+00,  6.38969015e+00,  2.86268255e-01,\n",
       "         3.92987924e+00,  4.07073942e+00],\n",
       "       [ 2.27122355e+00,  2.11556175e+00,  2.22141293e+00,\n",
       "         2.31012897e+00,  2.93119889e+00,  2.67246855e+00,\n",
       "        -4.12006738e+00,  4.56967763e+00, -8.55630943e-02,\n",
       "         2.76265575e+00,  3.60142668e+00],\n",
       "       [ 2.27122355e+00,  2.11556175e+00,  2.22141293e+00,\n",
       "         2.35361232e+00,  2.97869601e+00,  2.41316419e+00,\n",
       "        -5.57120840e+00,  4.29068198e+00,  4.95380449e-01,\n",
       "         5.87051952e-01,  4.07341192e+00],\n",
       "       [ 2.27122355e+00,  2.11556175e+00,  2.22141293e+00,\n",
       "         2.32217748e+00,  3.00535193e+00,  3.00131235e+00,\n",
       "        -2.15898375e-01,  8.72729109e-01,  1.38100812e+00,\n",
       "         1.29608635e+00,  1.35953029e+00],\n",
       "       [ 2.27122355e+00,  2.11556175e+00,  2.22141293e+00,\n",
       "         2.29008424e+00,  2.98129764e+00,  3.14141709e+00,\n",
       "        -1.11640634e+00,  3.83926221e+00,  1.96247322e+00,\n",
       "         1.08181934e+00,  1.77751513e+00],\n",
       "       [ 2.27122355e+00,  2.11556175e+00,  2.22141293e+00,\n",
       "         2.33102917e+00,  2.95205532e+00,  2.13898788e+00,\n",
       "        -9.79762490e-01,  2.31498356e+00,  2.86251616e+00,\n",
       "         2.13222866e+00, -3.27360681e-01],\n",
       "       [ 2.27122355e+00,  2.11556175e+00,  2.22141293e+00,\n",
       "         2.30049730e+00,  2.97252328e+00,  3.01794646e+00,\n",
       "         1.51456814e+00,  1.53357160e+00,  1.39565135e+00,\n",
       "         2.53130934e+00,  2.81555797e+00],\n",
       "       [ 2.27122355e+00,  2.11556175e+00,  2.22141293e+00,\n",
       "         2.30153582e+00,  1.31435792e+00,  3.04105814e+00,\n",
       "        -3.33448703e-02,  3.82548132e-01,  2.05857005e+00,\n",
       "         3.66945888e+00,  2.22759041e+00],\n",
       "       [ 2.27122355e+00,  2.11556175e+00,  2.22141293e+00,\n",
       "         2.28696607e+00,  1.28074929e+00,  2.59288333e+00,\n",
       "         4.15100421e+00,  5.08601496e+00,  1.98687084e+00,\n",
       "         3.22731315e+00,  3.65395664e+00],\n",
       "       [ 2.27122355e+00,  2.11556175e+00,  2.22141293e+00,\n",
       "         2.29542242e+00,  1.26257837e+00,  2.73739182e+00,\n",
       "        -7.31436887e-01,  1.98867394e+00,  3.87421793e+00,\n",
       "         2.31570118e+00,  3.66608356e+00],\n",
       "       [ 2.27122355e+00,  2.11556175e+00,  2.22141293e+00,\n",
       "         2.24868553e+00,  2.96676878e+00,  2.67704053e+00,\n",
       "         3.79305568e+00,  3.47161994e+00,  1.18827578e+00,\n",
       "         1.85936273e+00,  5.43418414e-01],\n",
       "       [ 2.27122355e+00,  2.11556175e+00,  2.22141293e+00,\n",
       "         2.22217144e+00,  1.31358060e+00,  3.05688076e+00,\n",
       "         1.47085362e+00,  1.38986125e+00,  8.40144694e-01,\n",
       "        -2.20110778e-01,  2.42250728e+00],\n",
       "       [ 2.27122355e+00,  2.11556175e+00,  2.22141293e+00,\n",
       "         2.37342628e+00,  1.29792917e+00,  2.93447468e+00,\n",
       "         4.09237600e+00,  4.72256988e+00,  1.73363855e+00,\n",
       "         1.67059809e+00,  5.92144238e-01],\n",
       "       [ 2.27122355e+00,  2.11556175e+00,  2.22141293e+00,\n",
       "         2.31528806e+00,  2.96638416e+00,  2.59107873e+00,\n",
       "        -9.46475982e-01,  1.45337264e+00,  3.16579560e+00,\n",
       "         1.95124477e+00,  3.44117339e+00],\n",
       "       [ 2.27122355e+00,  2.11556175e+00,  2.22141293e+00,\n",
       "         2.26902834e+00,  1.28866372e+00,  3.05288105e+00,\n",
       "        -4.21143665e-01,  1.80819957e+00,  1.17679974e+00,\n",
       "         2.89349246e+00,  2.17467938e+00],\n",
       "       [ 2.27122355e+00,  2.11556175e+00,  2.22141293e+00,\n",
       "         2.29060761e+00,  1.29659230e+00,  3.10494243e+00,\n",
       "        -7.88388050e-01,  2.09918196e+00,  1.15024613e+00,\n",
       "         3.04430194e+00,  2.00200160e+00],\n",
       "       [ 2.27122355e+00,  2.11556175e+00,  2.22141293e+00,\n",
       "         2.27697256e+00,  1.29046762e+00,  2.79924308e+00,\n",
       "        -3.85863599e+00,  4.57482307e+00,  1.47763200e+00,\n",
       "         2.63322750e+00,  3.25199260e+00],\n",
       "       [ 2.27122355e+00,  2.11556175e+00,  2.22141293e+00,\n",
       "         0.00000000e+00,  2.27121554e+00,  2.76235875e+00,\n",
       "         1.11247163e+00,  3.35058158e+00,  6.61547252e+00,\n",
       "         0.00000000e+00,  0.00000000e+00]])"
      ]
     },
     "execution_count": 11,
     "metadata": {},
     "output_type": "execute_result"
    }
   ],
   "source": [
    "x_val[0][-1].reshape(23,-1)"
   ]
  },
  {
   "cell_type": "code",
   "execution_count": null,
   "metadata": {},
   "outputs": [],
   "source": []
  },
  {
   "cell_type": "code",
   "execution_count": null,
   "metadata": {},
   "outputs": [],
   "source": [
    "x_val.reshape(-1, MAX_PLAY_LENGTH, 23, 11)[:,:,:,4:].reshape(-1,MAX_PLAY_LENGTH,23*7)"
   ]
  }
 ],
 "metadata": {
  "kernelspec": {
   "display_name": "Python 3.8.13 ('bdb_2023')",
   "language": "python",
   "name": "python3"
  },
  "language_info": {
   "codemirror_mode": {
    "name": "ipython",
    "version": 3
   },
   "file_extension": ".py",
   "mimetype": "text/x-python",
   "name": "python",
   "nbconvert_exporter": "python",
   "pygments_lexer": "ipython3",
   "version": "3.8.13"
  },
  "orig_nbformat": 4,
  "vscode": {
   "interpreter": {
    "hash": "64e913be5900ee3bfd48533456727a82d0e0b84d6c12de93770bb09b0509b267"
   }
  }
 },
 "nbformat": 4,
 "nbformat_minor": 2
}
