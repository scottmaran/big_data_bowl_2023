{
 "cells": [
  {
   "cell_type": "code",
   "execution_count": 2,
   "metadata": {},
   "outputs": [],
   "source": [
    "import pandas as pd\n",
    "import numpy as np\n",
    "\n",
    "pd.options.mode.chained_assignment = None\n",
    "# pd.set_option('display.max_rows', None)\n",
    "# pd.set_option('display.max_columns', None)\n"
   ]
  },
  {
   "cell_type": "code",
   "execution_count": 2,
   "metadata": {},
   "outputs": [],
   "source": [
    "''' \n",
    "Read in data files\n",
    "'''\n",
    "\n",
    "pff = pd.read_csv(\"~/Documents/Python/nfl-big-data-bowl-2023/data/pffScoutingData.csv\")\n",
    "plays = pd.read_csv(\"~/Documents/Python/nfl-big-data-bowl-2023/data/plays.csv\")\n",
    "games = pd.read_csv(\"~/Documents/Python/nfl-big-data-bowl-2023/data/games.csv\")\n",
    "games_df = pd.read_csv(\"~/Documents/Python/nfl-big-data-bowl-2023/data/games.csv\")"
   ]
  },
  {
   "cell_type": "code",
   "execution_count": 3,
   "metadata": {},
   "outputs": [],
   "source": [
    "def create_ngs_df():\n",
    "\n",
    "    ngs_df = pd.read_csv(\"~/Documents/Python/nfl-big-data-bowl-2023/data/week1.csv\", engine='c')\n",
    "    print(f\"dataframe shape = {ngs_df.shape}\")\n",
    "\n",
    "    for i in range(2,9):\n",
    "        ngs_df = pd.concat([ngs_df,pd.read_csv(f\"~/Documents/Python/nfl-big-data-bowl-2023/data/week{i}.csv\", engine='c') ])\n",
    "        \n",
    "    # add column 'is_football'\n",
    "    #ngs_df['is_football'] = ((ngs_df.team == 'football').values).astype(int)\n",
    "    return ngs_df\n"
   ]
  },
  {
   "cell_type": "code",
   "execution_count": 4,
   "metadata": {},
   "outputs": [],
   "source": [
    "# get frameId where ball is snapped and filter out plays before snap\n",
    "def filter_play_edges(ex_group):\n",
    "    ball_snap_events = ['autoevent_ballsnap', 'ball_snap']\n",
    "    try:\n",
    "        ball_snap_frame_id = ex_group.query(\"event in @ball_snap_events\").frameId.values[0]\n",
    "    except:\n",
    "        ball_snap_frame_id = 0\n",
    "    # filter out time after QB gets rid of ball or is sacked\n",
    "    end_conditions = ['pass_forward', 'qb_sack', 'qb_strip_sack', 'fumble', 'lateral', 'handoff', 'out_of_bounds']\n",
    "    end_frame_id = min(ex_group.query(\"event in @end_conditions\").frameId.values, default=max(ex_group.frameId.values))\n",
    "    # crop play\n",
    "    play_df = ex_group[(ball_snap_frame_id <= ex_group.frameId) & (ex_group.frameId <= end_frame_id)]\n",
    "    \n",
    "    return play_df\n",
    "\n",
    "# get if there was a sack\n",
    "def get_sack_info(play_df):\n",
    "    sack_list = ['qb_sack', 'qb_strip_sack']\n",
    "    play_events = play_df.event.unique()\n",
    "    is_sack = False\n",
    "    sack_frame_id = -1\n",
    "    for item in sack_list:\n",
    "        if item in play_events:\n",
    "            is_sack = True\n",
    "            sack_frame_id = play_df.query(\"event == @item\").frameId.values[0]\n",
    "            break\n",
    "    return is_sack, sack_frame_id\n",
    "\n",
    "# adjust stats based on play Direction\n",
    "def adjust_play(play_df):\n",
    "    playDirection = play_df['playDirection'].unique()[0]\n",
    "    if playDirection == 'left':\n",
    "        play_df['adj_x'] = play_df['x']\n",
    "        play_df['adj_y'] = play_df['y'] - 26.65\n",
    "        play_df['adj_o'] = (play_df['o'] + 90) % 360\n",
    "        play_df['adj_dir'] = (play_df['dir'] + 90) % 360\n",
    "    if playDirection == 'right':\n",
    "        play_df['adj_x'] = 120 - play_df['x']\n",
    "        play_df['adj_y'] = (53.3/2) - play_df['y']\n",
    "        play_df['adj_o'] = (play_df['o'] + 270) % 360\n",
    "        play_df['adj_dir'] = (play_df['dir'] + 270) % 360\n",
    "    \n",
    "    play_df.loc[play_df.team == 'football', 'adj_o'] = 0\n",
    "    play_df.loc[play_df.team == 'football', 'adj_dir'] = 0\n",
    "    play_df.loc[play_df.team == 'football', 'nflId'] = 0\n",
    "    \n",
    "    return play_df\n",
    "\n",
    "\n"
   ]
  },
  {
   "cell_type": "code",
   "execution_count": 5,
   "metadata": {},
   "outputs": [],
   "source": [
    "\n",
    "def add_team_indicator(play_df, games_df, game_id):\n",
    "    game_df = games_df.query(\"gameId == @game_id\")\n",
    "    home_team = game_df['homeTeamAbbr'].values[0]\n",
    "    away_team = game_df['visitorTeamAbbr'].values[0]\n",
    "    \n",
    "    conditions = [\n",
    "        (play_df.team == home_team),\n",
    "        (play_df.team == away_team),\n",
    "        (play_df.team == 'football')\n",
    "    ]\n",
    "    choices = [1,2,3]\n",
    "    play_df[\"team_indicator\"] = np.select(conditions, choices)\n",
    "    return play_df\n"
   ]
  },
  {
   "cell_type": "code",
   "execution_count": 6,
   "metadata": {},
   "outputs": [
    {
     "name": "stdout",
     "output_type": "stream",
     "text": [
      "dataframe shape = (1118122, 16)\n"
     ]
    }
   ],
   "source": [
    "ngs_df = create_ngs_df()\n",
    "\n",
    "all_games = ngs_df.gameId.unique()"
   ]
  },
  {
   "cell_type": "code",
   "execution_count": 7,
   "metadata": {},
   "outputs": [
    {
     "data": {
      "text/plain": [
       "array(['None', 'ball_snap', 'autoevent_passforward', 'pass_forward',\n",
       "       'autoevent_ballsnap', 'line_set', 'play_action', 'pass_arrived',\n",
       "       'autoevent_passinterrupted', 'fumble', 'fumble_offense_recovered',\n",
       "       'qb_sack', 'run', 'man_in_motion', 'pass_outcome_caught',\n",
       "       'pass_outcome_incomplete', 'pass_tipped', 'qb_strip_sack', 'shift',\n",
       "       'first_contact', 'huddle_break_offense', 'lateral', 'handoff',\n",
       "       'penalty_flag', 'tackle', 'dropped_pass', 'out_of_bounds'],\n",
       "      dtype=object)"
      ]
     },
     "execution_count": 7,
     "metadata": {},
     "output_type": "execute_result"
    }
   ],
   "source": [
    "ngs_df.event.unique()"
   ]
  },
  {
   "cell_type": "code",
   "execution_count": 8,
   "metadata": {},
   "outputs": [],
   "source": [
    "# 203 should be fine\n",
    "\n",
    "MAX_PLAY_LENGTH = ngs_df.frameId.max()"
   ]
  },
  {
   "cell_type": "code",
   "execution_count": 9,
   "metadata": {},
   "outputs": [
    {
     "data": {
      "text/plain": [
       "array([3406, 1143, 1547, 2734,  923, 2855])"
      ]
     },
     "execution_count": 9,
     "metadata": {},
     "output_type": "execute_result"
    }
   ],
   "source": [
    "ngs_df.query(\"frameId > 170\").playId.unique()"
   ]
  },
  {
   "cell_type": "code",
   "execution_count": 10,
   "metadata": {},
   "outputs": [],
   "source": [
    "features_list = []\n",
    "target_list = []"
   ]
  },
  {
   "cell_type": "code",
   "execution_count": 11,
   "metadata": {},
   "outputs": [],
   "source": [
    "features_to_keep = ['gameId', 'playId', 'frameId', 'nflId', 'team_indicator', 'adj_x', 'adj_y', 's', 'a', 'adj_o', 'adj_dir']\n",
    "\n",
    "for game_index, game_id in enumerate(all_games):\n",
    "    all_play_ids = plays.query(\"gameId == @game_id\").playId.values\n",
    "    \n",
    "    for play_id in all_play_ids:\n",
    "        ngs_play = ngs_df.query(\"gameId == @game_id and playId == @play_id\")\n",
    "        play_df = filter_play_edges(ngs_play)\n",
    "        play_df = add_team_indicator(play_df, games_df, game_id)\n",
    "        \n",
    "        is_sack, sack_frame_id = get_sack_info(play_df)\n",
    "        play_df = adjust_play(play_df)\n",
    "        # for each frame, get our featuers and target\n",
    "        all_frame_ids = play_df.frameId.unique()\n",
    "        \n",
    "        play_x_list = []\n",
    "        play_y_list = []\n",
    "        num_frames = len(all_frame_ids)\n",
    "        for frame_id in all_frame_ids:\n",
    "            \n",
    "            time_df = play_df.query(\"frameId == @frame_id\")\n",
    "            \n",
    "            feature_matrix = time_df[features_to_keep].values.flatten() # (23,11) -> array\n",
    "            time_until_sack = -1\n",
    "            if is_sack:\n",
    "                time_until_sack = (sack_frame_id - frame_id)/10\n",
    "                \n",
    "            not_sack = abs(is_sack-1)\n",
    "            target = np.array([not_sack, is_sack, time_until_sack]) # (3,1) array\n",
    "            \n",
    "            play_x_list.append(feature_matrix)\n",
    "            play_y_list.append(target)\n",
    "        \n",
    "        # pad at beginning\n",
    "        pad_list_x = []\n",
    "        pad_list_y = []\n",
    "        for i in range(MAX_PLAY_LENGTH - num_frames):\n",
    "            pad_list_x.append(np.zeros(23*len(features_to_keep)))\n",
    "            pad_list_y.append(np.zeros(3))\n",
    "        \n",
    "        \n",
    "        features_list.append(pad_list_x+play_x_list)\n",
    "        target_list.append(pad_list_y + play_y_list)\n",
    "        \n",
    "        \n"
   ]
  },
  {
   "cell_type": "code",
   "execution_count": 64,
   "metadata": {},
   "outputs": [
    {
     "data": {
      "text/plain": [
       "(97, 203, 253)"
      ]
     },
     "execution_count": 64,
     "metadata": {},
     "output_type": "execute_result"
    }
   ],
   "source": [
    "np.array(features_list).shape"
   ]
  },
  {
   "cell_type": "code",
   "execution_count": 12,
   "metadata": {},
   "outputs": [
    {
     "data": {
      "text/plain": [
       "array([[[ 0. ,  0. ,  0. ],\n",
       "        [ 0. ,  0. ,  0. ],\n",
       "        [ 0. ,  0. ,  0. ],\n",
       "        ...,\n",
       "        [ 1. ,  0. , -1. ],\n",
       "        [ 1. ,  0. , -1. ],\n",
       "        [ 1. ,  0. , -1. ]],\n",
       "\n",
       "       [[ 0. ,  0. ,  0. ],\n",
       "        [ 0. ,  0. ,  0. ],\n",
       "        [ 0. ,  0. ,  0. ],\n",
       "        ...,\n",
       "        [ 1. ,  0. , -1. ],\n",
       "        [ 1. ,  0. , -1. ],\n",
       "        [ 1. ,  0. , -1. ]],\n",
       "\n",
       "       [[ 0. ,  0. ,  0. ],\n",
       "        [ 0. ,  0. ,  0. ],\n",
       "        [ 0. ,  0. ,  0. ],\n",
       "        ...,\n",
       "        [ 1. ,  0. , -1. ],\n",
       "        [ 1. ,  0. , -1. ],\n",
       "        [ 1. ,  0. , -1. ]],\n",
       "\n",
       "       ...,\n",
       "\n",
       "       [[ 0. ,  0. ,  0. ],\n",
       "        [ 0. ,  0. ,  0. ],\n",
       "        [ 0. ,  0. ,  0. ],\n",
       "        ...,\n",
       "        [ 0. ,  1. ,  0.2],\n",
       "        [ 0. ,  1. ,  0.1],\n",
       "        [ 0. ,  1. ,  0. ]],\n",
       "\n",
       "       [[ 0. ,  0. ,  0. ],\n",
       "        [ 0. ,  0. ,  0. ],\n",
       "        [ 0. ,  0. ,  0. ],\n",
       "        ...,\n",
       "        [ 1. ,  0. , -1. ],\n",
       "        [ 1. ,  0. , -1. ],\n",
       "        [ 1. ,  0. , -1. ]],\n",
       "\n",
       "       [[ 0. ,  0. ,  0. ],\n",
       "        [ 0. ,  0. ,  0. ],\n",
       "        [ 0. ,  0. ,  0. ],\n",
       "        ...,\n",
       "        [ 0. ,  1. ,  0.2],\n",
       "        [ 0. ,  1. ,  0.1],\n",
       "        [ 0. ,  1. ,  0. ]]])"
      ]
     },
     "execution_count": 12,
     "metadata": {},
     "output_type": "execute_result"
    }
   ],
   "source": [
    "target_arr = np.array(target_list)\n",
    "feature_arr = np.array(features_list)\n",
    "\n",
    "np.nan_to_num(feature_arr, copy=False, nan=0)\n",
    "np.nan_to_num(target_arr, copy=False, nan=0)"
   ]
  },
  {
   "cell_type": "code",
   "execution_count": 13,
   "metadata": {},
   "outputs": [],
   "source": [
    "import pickle\n",
    "\n",
    "# np.save(\"./seq_data/feature_arr_ids\", feature_arr)\n",
    "# np.save(\"./seq_data/target_arr_ids\", target_arr)"
   ]
  },
  {
   "cell_type": "code",
   "execution_count": 3,
   "metadata": {},
   "outputs": [],
   "source": [
    "feature_arr = np.load(\"./seq_data/feature_arr_ids.npy\")\n",
    "target_arr = np.load(\"./seq_data/target_arr_ids.npy\")"
   ]
  },
  {
   "cell_type": "code",
   "execution_count": 4,
   "metadata": {},
   "outputs": [
    {
     "name": "stdout",
     "output_type": "stream",
     "text": [
      "(8558, 203, 3)\n"
     ]
    }
   ],
   "source": [
    "''' \n",
    "Create training, validation, and testing set\n",
    "'''\n",
    "\n",
    "print(target_arr.shape)"
   ]
  },
  {
   "cell_type": "code",
   "execution_count": 5,
   "metadata": {},
   "outputs": [],
   "source": [
    "#print(f\"Shape of dataframe = {df.shape}\")\n",
    "#print(f\"70% of length = {df.shape[0]*.7}\")\n",
    "#print(f\"15% of length = {df.shape[0]*.15}\")\n",
    "\n",
    "# training set will start at. Pick these values so at the start of a new play\n",
    "train_index_end = 6000\n",
    "val_index_end = 7300\n",
    "\n",
    "x_train = feature_arr[0:train_index_end, :, :]\n",
    "x_val = feature_arr[train_index_end:val_index_end, :, :]\n",
    "x_test = feature_arr[val_index_end:, :, :]\n",
    "\n",
    "y_train = target_arr[0:train_index_end, :, :]\n",
    "y_val = target_arr[train_index_end:val_index_end, :, :]\n",
    "y_test = target_arr[val_index_end:, :, :]"
   ]
  },
  {
   "cell_type": "code",
   "execution_count": 6,
   "metadata": {},
   "outputs": [],
   "source": [
    "# Confirm random seed functionality\n",
    "\n",
    "# x = [2,3,4,5,6]\n",
    "# y = [2,3,4,5,6]\n",
    "\n",
    "# print(\"Setting seed once\")\n",
    "# np.random.seed(24)\n",
    "# np.random.shuffle(x)\n",
    "# np.random.shuffle(y)\n",
    "# print(x)\n",
    "# print(y)\n",
    "\n",
    "# x = [2,3,4,5,6]\n",
    "# y = [2,3,4,5,6]\n",
    "# print(\"Setting seed multiple times\")\n",
    "# np.random.seed(24)\n",
    "# np.random.shuffle(x)\n",
    "# np.random.seed(24)\n",
    "# np.random.shuffle(y)\n",
    "# print(x)\n",
    "# print(y)\n",
    "\n",
    "# print(f\"/n Need to reset seed every call\")"
   ]
  },
  {
   "cell_type": "code",
   "execution_count": 7,
   "metadata": {},
   "outputs": [
    {
     "name": "stdout",
     "output_type": "stream",
     "text": [
      "(6000, 203, 253)\n"
     ]
    }
   ],
   "source": [
    "print(x_train.shape)"
   ]
  },
  {
   "cell_type": "code",
   "execution_count": 8,
   "metadata": {},
   "outputs": [],
   "source": [
    "# Shuffle training set\n",
    "\n",
    "np.random.seed(24)\n",
    "np.random.shuffle(x_train)\n",
    "np.random.seed(24)\n",
    "np.random.shuffle(y_train)\n"
   ]
  },
  {
   "cell_type": "code",
   "execution_count": 7,
   "metadata": {},
   "outputs": [],
   "source": [
    "# Standardize dataset - not doing it for small\n",
    "\n",
    "# get mean/std of each feature. (N*23, 11) vector\n",
    "train_mu = np.mean(x_train.reshape(-1,x_train.shape[-1]),axis=0)\n",
    "train_std = np.std(x_train.reshape(-1,x_train.shape[-1]),axis=0)\n",
    "train_std[train_std == 0] = 1  # so no divide by zero error\n",
    "\n",
    "# don't standardize game, play, frame, nflid, or team_indicator features\n",
    "x_train[:,:,5:] = (x_train[:,:,5:] - train_mu[5:])/train_std[5:]\n",
    "x_val[:,:,5:] = (x_val[:,:,5:] - train_mu[5:])/train_std[5:]\n",
    "x_test[:,:,5:] = (x_test[:,:,5:] - train_mu[5:])/train_std[5:]"
   ]
  },
  {
   "cell_type": "code",
   "execution_count": 9,
   "metadata": {},
   "outputs": [
    {
     "name": "stdout",
     "output_type": "stream",
     "text": [
      "number of training examples = 6000\n",
      "number of test examples = 1258\n",
      "X_train shape: (6000, 203, 253)\n",
      "Y_train shape: (6000, 203, 3)\n",
      "X_val shape: (1300, 203, 253)\n",
      "Y_val shape: (1300, 203, 3)\n",
      "X_test shape: (1258, 203, 253)\n",
      "Y_test shape: (1258, 203, 3)\n"
     ]
    }
   ],
   "source": [
    "print (\"number of training examples = \" + str(x_train.shape[0]))\n",
    "print (\"number of test examples = \" + str(x_test.shape[0]))\n",
    "print (\"X_train shape: \" + str(x_train.shape))\n",
    "print (\"Y_train shape: \" + str(y_train.shape))\n",
    "print (\"X_val shape: \" + str(x_val.shape))\n",
    "print (\"Y_val shape: \" + str(y_val.shape))\n",
    "print (\"X_test shape: \" + str(x_test.shape))\n",
    "print (\"Y_test shape: \" + str(y_test.shape))"
   ]
  },
  {
   "cell_type": "code",
   "execution_count": 10,
   "metadata": {},
   "outputs": [],
   "source": [
    "# np.save(\"./seq_unnorm_data/x_train\", x_train)\n",
    "# np.save(\"./seq_unnorm_data/y_train\", y_train)\n",
    "# np.save(\"./seq_unnorm_data/x_val\", x_val)\n",
    "# np.save(\"./seq_unnorm_data/y_val\", y_val)\n",
    "# np.save(\"./seq_unnorm_data/x_test\", x_test)\n",
    "# np.save(\"./seq_unnorm_data/y_test\", y_test)"
   ]
  },
  {
   "cell_type": "code",
   "execution_count": 9,
   "metadata": {},
   "outputs": [],
   "source": [
    "np.save(\"./seq_data/x_train\", x_train)\n",
    "np.save(\"./seq_data/y_train\", y_train)\n",
    "np.save(\"./seq_data/x_val\", x_val)\n",
    "np.save(\"./seq_data/y_val\", y_val)\n",
    "np.save(\"./seq_data/x_test\", x_test)\n",
    "np.save(\"./seq_data/y_test\", y_test)\n",
    "np.save(\"./seq_data/train_mu\", train_mu)\n",
    "np.save(\"./seq_data/train_std\", train_std)\n"
   ]
  },
  {
   "cell_type": "code",
   "execution_count": null,
   "metadata": {},
   "outputs": [],
   "source": [
    "''' \n",
    "Feature list:\n",
    "['gameId', 'playId', 'frameId', 'nflId', 'team_indicator', 'adj_x', 'adj_y', 's', 'a', 'adj_o', 'adj_dir']\n",
    "'''"
   ]
  },
  {
   "cell_type": "code",
   "execution_count": null,
   "metadata": {},
   "outputs": [],
   "source": []
  }
 ],
 "metadata": {
  "kernelspec": {
   "display_name": "Python 3.8.13 ('bdb_2023')",
   "language": "python",
   "name": "python3"
  },
  "language_info": {
   "codemirror_mode": {
    "name": "ipython",
    "version": 3
   },
   "file_extension": ".py",
   "mimetype": "text/x-python",
   "name": "python",
   "nbconvert_exporter": "python",
   "pygments_lexer": "ipython3",
   "version": "3.8.13"
  },
  "orig_nbformat": 4,
  "vscode": {
   "interpreter": {
    "hash": "64e913be5900ee3bfd48533456727a82d0e0b84d6c12de93770bb09b0509b267"
   }
  }
 },
 "nbformat": 4,
 "nbformat_minor": 2
}
