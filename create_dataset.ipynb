{
 "cells": [
  {
   "cell_type": "code",
   "execution_count": 2,
   "metadata": {},
   "outputs": [],
   "source": [
    "import pandas as pd\n",
    "import numpy as np\n",
    "\n",
    "pd.options.mode.chained_assignment = None\n",
    "# pd.set_option('display.max_rows', None)\n",
    "# pd.set_option('display.max_columns', None)\n"
   ]
  },
  {
   "cell_type": "code",
   "execution_count": 2,
   "metadata": {},
   "outputs": [],
   "source": [
    "''' \n",
    "Read in data files\n",
    "'''\n",
    "\n",
    "pff = pd.read_csv(\"data/pffScoutingData.csv\")\n",
    "plays = pd.read_csv(\"data/plays.csv\")\n",
    "games = pd.read_csv(\"data/games.csv\")\n",
    "games_df = pd.read_csv(\"data/games.csv\")"
   ]
  },
  {
   "cell_type": "code",
   "execution_count": 3,
   "metadata": {},
   "outputs": [],
   "source": [
    "def create_ngs_df():\n",
    "\n",
    "    ngs_df = pd.read_csv(\"data/week1.csv\", engine='c')\n",
    "    print(f\"dataframe shape = {ngs_df.shape}\")\n",
    "\n",
    "    for i in range(2,9):\n",
    "        ngs_df = pd.concat([ngs_df,pd.read_csv(f\"data/week{i}.csv\", engine='c') ])\n",
    "        \n",
    "    # add column 'is_football'\n",
    "    #ngs_df['is_football'] = ((ngs_df.team == 'football').values).astype(int)\n",
    "    return ngs_df\n"
   ]
  },
  {
   "cell_type": "code",
   "execution_count": 4,
   "metadata": {},
   "outputs": [],
   "source": [
    "# get frameId where ball is snapped and filter out plays before snap\n",
    "def filter_play_edges(ex_group):\n",
    "    ball_snap_events = ['autoevent_ballsnap', 'ball_snap']\n",
    "    try:\n",
    "        ball_snap_frame_id = ex_group.query(\"event in @ball_snap_events\").frameId.values[0]\n",
    "    except:\n",
    "        ball_snap_frame_id = 0\n",
    "    # filter out time after QB gets rid of ball or is sacked\n",
    "    end_conditions = ['pass_forward', 'qb_sack', 'qb_strip_sack', 'fumble', 'lateral', 'handoff', 'out_of_bounds']\n",
    "    end_frame_id = min(ex_group.query(\"event in @end_conditions\").frameId.values, default=max(ex_group.frameId.values))\n",
    "    # crop play\n",
    "    play_df = ex_group[(ball_snap_frame_id <= ex_group.frameId) & (ex_group.frameId <= end_frame_id)]\n",
    "    \n",
    "    return play_df\n",
    "\n",
    "# get if there was a sack\n",
    "def get_sack_info(play_df):\n",
    "    sack_list = ['qb_sack', 'qb_strip_sack']\n",
    "    play_events = play_df.event.unique()\n",
    "    is_sack = False\n",
    "    sack_frame_id = -1\n",
    "    for item in sack_list:\n",
    "        if item in play_events:\n",
    "            is_sack = True\n",
    "            sack_frame_id = play_df.query(\"event == @item\").frameId.values[0]\n",
    "            break\n",
    "    return is_sack, sack_frame_id\n",
    "\n",
    "# adjust stats based on play Direction\n",
    "def adjust_play(play_df):\n",
    "    playDirection = play_df['playDirection'].unique()[0]\n",
    "    if playDirection == 'left':\n",
    "        play_df['adj_x'] = play_df['x']\n",
    "        play_df['adj_y'] = play_df['y'] - 26.65\n",
    "        play_df['adj_o'] = (play_df['o'] + 90) % 360\n",
    "        play_df['adj_dir'] = (play_df['dir'] + 90) % 360\n",
    "    if playDirection == 'right':\n",
    "        play_df['adj_x'] = 120 - play_df['x']\n",
    "        play_df['adj_y'] = (53.3/2) - play_df['y']\n",
    "        play_df['adj_o'] = (play_df['o'] + 270) % 360\n",
    "        play_df['adj_dir'] = (play_df['dir'] + 270) % 360\n",
    "    \n",
    "    play_df.loc[play_df.team == 'football', 'adj_o'] = 0\n",
    "    play_df.loc[play_df.team == 'football', 'adj_dir'] = 0\n",
    "    play_df.loc[play_df.team == 'football', 'nflId'] = 0\n",
    "    \n",
    "    return play_df\n",
    "\n",
    "\n"
   ]
  },
  {
   "cell_type": "code",
   "execution_count": 5,
   "metadata": {},
   "outputs": [],
   "source": [
    "\n",
    "def add_team_indicator(play_df, games_df, game_id):\n",
    "    game_df = games_df.query(\"gameId == @game_id\")\n",
    "    home_team = game_df['homeTeamAbbr'].values[0]\n",
    "    away_team = game_df['visitorTeamAbbr'].values[0]\n",
    "    \n",
    "    conditions = [\n",
    "        (play_df.team == home_team),\n",
    "        (play_df.team == away_team),\n",
    "        (play_df.team == 'football')\n",
    "    ]\n",
    "    choices = [1,2,3]\n",
    "    play_df[\"team_indicator\"] = np.select(conditions, choices)\n",
    "    return play_df\n"
   ]
  },
  {
   "cell_type": "code",
   "execution_count": 6,
   "metadata": {},
   "outputs": [
    {
     "name": "stdout",
     "output_type": "stream",
     "text": [
      "dataframe shape = (1118122, 16)\n"
     ]
    }
   ],
   "source": [
    "ngs_df = create_ngs_df()\n",
    "\n",
    "all_games = ngs_df.gameId.unique()"
   ]
  },
  {
   "cell_type": "code",
   "execution_count": 7,
   "metadata": {},
   "outputs": [
    {
     "data": {
      "text/plain": [
       "array(['None', 'ball_snap', 'autoevent_passforward', 'pass_forward',\n",
       "       'autoevent_ballsnap', 'line_set', 'play_action', 'pass_arrived',\n",
       "       'autoevent_passinterrupted', 'fumble', 'fumble_offense_recovered',\n",
       "       'qb_sack', 'run', 'man_in_motion', 'pass_outcome_caught',\n",
       "       'pass_outcome_incomplete', 'pass_tipped', 'qb_strip_sack', 'shift',\n",
       "       'first_contact', 'huddle_break_offense', 'lateral', 'handoff',\n",
       "       'penalty_flag', 'tackle', 'dropped_pass', 'out_of_bounds'],\n",
       "      dtype=object)"
      ]
     },
     "execution_count": 7,
     "metadata": {},
     "output_type": "execute_result"
    }
   ],
   "source": [
    "ngs_df.event.unique()"
   ]
  },
  {
   "cell_type": "code",
   "execution_count": 8,
   "metadata": {},
   "outputs": [],
   "source": [
    "features_list = []\n",
    "target_list = []"
   ]
  },
  {
   "cell_type": "code",
   "execution_count": 18,
   "metadata": {},
   "outputs": [],
   "source": [
    "features_to_keep = ['gameId', 'playId', 'frameId', 'nflId', 'team_indicator', 'adj_x', 'adj_y', 's', 'a', 'adj_o', 'adj_dir']\n",
    "\n",
    "for game_index, game_id in enumerate(all_games):\n",
    "    all_play_ids = plays.query(\"gameId == @game_id\").playId.values\n",
    "    \n",
    "    for play_id in all_play_ids:\n",
    "        ngs_play = ngs_df.query(\"gameId == @game_id and playId == @play_id\")\n",
    "        play_df = filter_play_edges(ngs_play)\n",
    "        play_df = add_team_indicator(play_df, games_df, game_id)\n",
    "        \n",
    "        is_sack, sack_frame_id = get_sack_info(play_df)\n",
    "        play_df = adjust_play(play_df)\n",
    "        # for each frame, get our featuers and target\n",
    "        all_frame_ids = play_df.frameId.unique()\n",
    "        \n",
    "        frame_id = np.random.choice(all_frame_ids, 1)[0]\n",
    "        # print(frame_id[0])\n",
    "        # print(type(frame_id))\n",
    "        #for frame_id in all_frame_ids:\n",
    "            \n",
    "        time_df = play_df.query(\"frameId == @frame_id\")\n",
    "        \n",
    "        if len(time_df) != 23:\n",
    "            print(f\"skipped at game {game_index} play {play_id} at time {frame_id}\")\n",
    "            continue\n",
    "        \n",
    "        feature_matrix = time_df[features_to_keep].values # (23,7) array\n",
    "        time_until_sack = -1\n",
    "        if is_sack:\n",
    "            time_until_sack = (sack_frame_id - frame_id)/10\n",
    "            \n",
    "        not_sack = abs(is_sack-1)\n",
    "        target = np.array([not_sack, is_sack, time_until_sack])\n",
    "        \n",
    "        features_list.append(feature_matrix)\n",
    "        target_list.append(target)\n",
    "        \n",
    "\n"
   ]
  },
  {
   "cell_type": "code",
   "execution_count": 3,
   "metadata": {},
   "outputs": [
    {
     "ename": "NameError",
     "evalue": "name 'target_list' is not defined",
     "output_type": "error",
     "traceback": [
      "\u001b[0;31m---------------------------------------------------------------------------\u001b[0m",
      "\u001b[0;31mNameError\u001b[0m                                 Traceback (most recent call last)",
      "Cell \u001b[0;32mIn [3], line 1\u001b[0m\n\u001b[0;32m----> 1\u001b[0m target_arr \u001b[39m=\u001b[39m np\u001b[39m.\u001b[39marray(target_list)\n\u001b[1;32m      2\u001b[0m feature_arr \u001b[39m=\u001b[39m np\u001b[39m.\u001b[39marray(features_list)\n\u001b[1;32m      4\u001b[0m np\u001b[39m.\u001b[39mnan_to_num(feature_arr, copy\u001b[39m=\u001b[39m\u001b[39mFalse\u001b[39;00m, nan\u001b[39m=\u001b[39m\u001b[39m0\u001b[39m)\n",
      "\u001b[0;31mNameError\u001b[0m: name 'target_list' is not defined"
     ]
    }
   ],
   "source": [
    "target_arr = np.array(target_list)\n",
    "feature_arr = np.array(features_list)\n",
    "\n",
    "np.nan_to_num(feature_arr, copy=False, nan=0)\n",
    "np.nan_to_num(target_arr, copy=False, nan=0)"
   ]
  },
  {
   "cell_type": "code",
   "execution_count": 20,
   "metadata": {},
   "outputs": [],
   "source": [
    "import pickle\n",
    "\n",
    "# np.save(\"./cleaned_data/small/feature_arr_ids\", feature_arr)\n",
    "# np.save(\"./cleaned_data/small/target_arr_ids\", target_arr)"
   ]
  },
  {
   "cell_type": "code",
   "execution_count": 4,
   "metadata": {},
   "outputs": [],
   "source": [
    "feature_arr = np.load(\"./cleaned_data/feature_arr_ids.npy\")\n",
    "target_arr = np.load(\"./cleaned_data/target_arr_ids.npy\")"
   ]
  },
  {
   "cell_type": "code",
   "execution_count": 12,
   "metadata": {},
   "outputs": [
    {
     "data": {
      "text/plain": [
       "' \\nCreate training, validation, and testing set\\n'"
      ]
     },
     "execution_count": 12,
     "metadata": {},
     "output_type": "execute_result"
    }
   ],
   "source": [
    "''' \n",
    "Create training, validation, and testing set\n",
    "'''"
   ]
  },
  {
   "cell_type": "code",
   "execution_count": 12,
   "metadata": {},
   "outputs": [
    {
     "data": {
      "text/plain": [
       "array([[ 2.0211017e+09,  4.7800000e+02,  3.4000000e+01,  4.3290000e+04,\n",
       "         1.0000000e+00,  9.6620000e+01, -2.7000000e+00,  2.1900000e+00,\n",
       "         1.0000000e+00,  8.9050000e+01,  2.5250000e+01],\n",
       "       [ 2.0211017e+09,  5.2100000e+02,  6.0000000e+00,  3.8553000e+04,\n",
       "         2.0000000e+00,  8.8470000e+01,  6.3500000e+00,  0.0000000e+00,\n",
       "         0.0000000e+00,  3.2767000e+02,  2.6174000e+02],\n",
       "       [ 2.0211017e+09,  5.2100000e+02,  7.0000000e+00,  3.8553000e+04,\n",
       "         2.0000000e+00,  8.8470000e+01,  6.3500000e+00,  0.0000000e+00,\n",
       "         0.0000000e+00,  3.2680000e+02,  2.6990000e+02]])"
      ]
     },
     "execution_count": 12,
     "metadata": {},
     "output_type": "execute_result"
    }
   ],
   "source": [
    "feature_arr[196647:196650][:,1,:]"
   ]
  },
  {
   "cell_type": "code",
   "execution_count": 13,
   "metadata": {},
   "outputs": [
    {
     "data": {
      "text/plain": [
       "array([[ 1.,  0., -1.],\n",
       "       [ 1.,  0., -1.],\n",
       "       [ 1.,  0., -1.]])"
      ]
     },
     "execution_count": 13,
     "metadata": {},
     "output_type": "execute_result"
    }
   ],
   "source": [
    "target_arr[196647:196650]"
   ]
  },
  {
   "cell_type": "code",
   "execution_count": 15,
   "metadata": {},
   "outputs": [
    {
     "data": {
      "text/plain": [
       "(50485, 11)"
      ]
     },
     "execution_count": 15,
     "metadata": {},
     "output_type": "execute_result"
    }
   ],
   "source": [
    "feature_arr[feature_arr[:,:,0] == 2021102407].shape"
   ]
  },
  {
   "cell_type": "code",
   "execution_count": 35,
   "metadata": {},
   "outputs": [
    {
     "data": {
      "text/plain": [
       "42142.35"
      ]
     },
     "execution_count": 35,
     "metadata": {},
     "output_type": "execute_result"
    }
   ],
   "source": [
    "feature_arr.shape[0]*.15"
   ]
  },
  {
   "cell_type": "code",
   "execution_count": 59,
   "metadata": {},
   "outputs": [
    {
     "data": {
      "text/plain": [
       "array([[2.02110241e+09, 3.32500000e+03, 3.50000000e+01, 3.99500000e+04,\n",
       "        2.00000000e+00, 7.81600000e+01, 3.93000000e+00, 1.69000000e+00,\n",
       "        2.41000000e+00, 9.95500000e+01, 1.61060000e+02],\n",
       "       [2.02110241e+09, 3.35400000e+03, 6.00000000e+00, 3.99500000e+04,\n",
       "        2.00000000e+00, 5.20700000e+01, 5.41000000e+00, 1.20000000e-01,\n",
       "        9.70000000e-01, 3.37090000e+02, 1.24440000e+02],\n",
       "       [2.02110241e+09, 3.35400000e+03, 7.00000000e+00, 3.99500000e+04,\n",
       "        2.00000000e+00, 5.21100000e+01, 5.44000000e+00, 3.50000000e-01,\n",
       "        1.66000000e+00, 3.39290000e+02, 1.38140000e+02],\n",
       "       [2.02110241e+09, 3.35400000e+03, 8.00000000e+00, 3.99500000e+04,\n",
       "        2.00000000e+00, 5.21600000e+01, 5.47000000e+00, 6.60000000e-01,\n",
       "        2.24000000e+00, 3.49050000e+02, 1.43860000e+02],\n",
       "       [2.02110241e+09, 3.35400000e+03, 9.00000000e+00, 3.99500000e+04,\n",
       "        2.00000000e+00, 5.22400000e+01, 5.52000000e+00, 1.02000000e+00,\n",
       "        2.39000000e+00, 3.53010000e+02, 1.47540000e+02]])"
      ]
     },
     "execution_count": 59,
     "metadata": {},
     "output_type": "execute_result"
    }
   ],
   "source": [
    "s = 196682 + 1 + 42186\n",
    "\n",
    "feature_arr[s:s+5,1,:]"
   ]
  },
  {
   "cell_type": "code",
   "execution_count": 42,
   "metadata": {},
   "outputs": [
    {
     "data": {
      "text/plain": [
       "array([[ 2.02110241e+09,  3.30100000e+03,  3.00000000e+01,\n",
       "         3.99500000e+04,  2.00000000e+00,  9.25200000e+01,\n",
       "        -5.80000000e-01,  2.95000000e+00,  1.42000000e+00,\n",
       "         1.52430000e+02,  1.97440000e+02],\n",
       "       [ 2.02110241e+09,  3.32500000e+03,  6.00000000e+00,\n",
       "         3.99500000e+04,  2.00000000e+00,  7.20400000e+01,\n",
       "         5.34000000e+00,  2.80000000e-01,  1.36000000e+00,\n",
       "         2.42000000e+00,  1.33500000e+02],\n",
       "       [ 2.02110241e+09,  3.32500000e+03,  7.00000000e+00,\n",
       "         3.99500000e+04,  2.00000000e+00,  7.20800000e+01,\n",
       "         5.38000000e+00,  5.50000000e-01,  2.04000000e+00,\n",
       "         3.30000000e+00,  1.36910000e+02],\n",
       "       [ 2.02110241e+09,  3.32500000e+03,  8.00000000e+00,\n",
       "         3.99500000e+04,  2.00000000e+00,  7.21400000e+01,\n",
       "         5.43000000e+00,  8.60000000e-01,  2.23000000e+00,\n",
       "         4.44000000e+00,  1.41690000e+02],\n",
       "       [ 2.02110241e+09,  3.32500000e+03,  9.00000000e+00,\n",
       "         3.99500000e+04,  2.00000000e+00,  7.22400000e+01,\n",
       "         5.49000000e+00,  1.21000000e+00,  2.30000000e+00,\n",
       "         4.44000000e+00,  1.43850000e+02]])"
      ]
     },
     "execution_count": 42,
     "metadata": {},
     "output_type": "execute_result"
    }
   ],
   "source": [
    "#feature_arr.shape[0]*.7 = 196664\n",
    "#feature_arr.shape[0]*.15 = 42142\n",
    "\n",
    "i = 196682\n",
    "j = 42157\n",
    "\n",
    "feature_arr[i+j:i+j+5][:,1,:]"
   ]
  },
  {
   "cell_type": "code",
   "execution_count": 60,
   "metadata": {},
   "outputs": [],
   "source": [
    "training_index_end = 196682 + 1 # the index of the last timestep of a play\n",
    "val_index_end = training_index_end + 42186 + 1\n",
    "\n",
    "x_train = feature_arr[0:training_index_end,:,:]\n",
    "x_val = feature_arr[training_index_end:val_index_end,:,:]\n",
    "x_test = feature_arr[val_index_end:,:,:]\n",
    "\n",
    "y_train = target_arr[0:training_index_end]\n",
    "y_val = target_arr[training_index_end:val_index_end]\n",
    "y_test = target_arr[val_index_end:]"
   ]
  },
  {
   "cell_type": "code",
   "execution_count": 13,
   "metadata": {},
   "outputs": [],
   "source": [
    "# reshaped_x = feature_arr.reshape(feature_arr.shape[0], -1)\n",
    "\n",
    "# #print(f\"Shape of dataframe = {df.shape}\")\n",
    "# #print(f\"70% of length = {df.shape[0]*.7}\")\n",
    "# #print(f\"15% of length = {df.shape[0]*.15}\")\n",
    "\n",
    "# # training set will start at. Pick these values so at the start of a new play\n",
    "# train_index_end = 196648\n",
    "# val_index_end = 238779\n",
    "\n",
    "# x_train = reshaped_x[0:train_index_end, :].reshape(-1, feature_arr.shape[1], feature_arr.shape[2])\n",
    "# x_val = reshaped_x[train_index_end:val_index_end, :].reshape(-1, feature_arr.shape[1], feature_arr.shape[2])\n",
    "# x_test = reshaped_x[val_index_end:, :].reshape(-1, feature_arr.shape[1], feature_arr.shape[2])\n",
    "\n",
    "# y_train = target_arr[0:train_index_end]\n",
    "# y_val = target_arr[train_index_end:val_index_end]\n",
    "# y_test = target_arr[val_index_end:]"
   ]
  },
  {
   "cell_type": "code",
   "execution_count": 14,
   "metadata": {},
   "outputs": [],
   "source": [
    "# Confirm random seed functionality\n",
    "\n",
    "# x = [2,3,4,5,6]\n",
    "# y = [2,3,4,5,6]\n",
    "\n",
    "# print(\"Setting seed once\")\n",
    "# np.random.seed(24)\n",
    "# np.random.shuffle(x)\n",
    "# np.random.shuffle(y)\n",
    "# print(x)\n",
    "# print(y)\n",
    "\n",
    "# x = [2,3,4,5,6]\n",
    "# y = [2,3,4,5,6]\n",
    "# print(\"Setting seed multiple times\")\n",
    "# np.random.seed(24)\n",
    "# np.random.shuffle(x)\n",
    "# np.random.seed(24)\n",
    "# np.random.shuffle(y)\n",
    "# print(x)\n",
    "# print(y)\n",
    "\n",
    "# print(f\"/n Need to reset seed every call\")"
   ]
  },
  {
   "cell_type": "code",
   "execution_count": 25,
   "metadata": {},
   "outputs": [],
   "source": [
    "# unnormalized \n",
    "\n",
    "# train_index_end = int(len(feature_arr)*.7)\n",
    "# val_index_end = int(len(feature_arr)*.7 + len(feature_arr)*.15)\n",
    "\n",
    "# x_train = feature_arr[0:train_index_end, :]\n",
    "# x_val = feature_arr[train_index_end:val_index_end, :]\n",
    "# x_test = feature_arr[val_index_end:, :]\n",
    "\n",
    "# y_train = target_arr[0:train_index_end]\n",
    "# y_val = target_arr[train_index_end:val_index_end]\n",
    "# y_test = target_arr[val_index_end:]"
   ]
  },
  {
   "cell_type": "code",
   "execution_count": 26,
   "metadata": {},
   "outputs": [],
   "source": [
    "# Shuffle training set\n",
    "\n",
    "# np.random.seed(24)\n",
    "# np.random.shuffle(x_train)\n",
    "# np.random.seed(24)\n",
    "# np.random.shuffle(y_train)\n"
   ]
  },
  {
   "cell_type": "code",
   "execution_count": 27,
   "metadata": {},
   "outputs": [],
   "source": [
    "# Standardize dataset\n",
    "\n",
    "# get mean/std of each feature. (N*23, 11) vector\n",
    "train_mu = np.mean(x_train.reshape(-1,x_train.shape[-1]),axis=0)\n",
    "train_std = np.std(x_train.reshape(-1,x_train.shape[-1]),axis=0)\n",
    "\n",
    "# don't standardize game, play, frame, nflid, or team_indicator features\n",
    "x_train[:,:,5:] = (x_train[:,:,5:] - train_mu[5:])/train_std[5:]\n",
    "x_val[:,:,5:] = (x_val[:,:,5:] - train_mu[5:])/train_std[5:]\n",
    "x_test[:,:,5:] = (x_test[:,:,5:] - train_mu[5:])/train_std[5:]"
   ]
  },
  {
   "cell_type": "code",
   "execution_count": 61,
   "metadata": {},
   "outputs": [
    {
     "name": "stdout",
     "output_type": "stream",
     "text": [
      "number of training examples = 196683\n",
      "number of test examples = 42079\n",
      "X_train shape: (196683, 23, 11)\n",
      "Y_train shape: (196683, 3)\n",
      "X_val shape: (42187, 23, 11)\n",
      "Y_val shape: (42187, 3)\n",
      "X_test shape: (42079, 23, 11)\n",
      "Y_test shape: (42079, 3)\n"
     ]
    }
   ],
   "source": [
    "print (\"number of training examples = \" + str(x_train.shape[0]))\n",
    "print (\"number of test examples = \" + str(x_test.shape[0]))\n",
    "print (\"X_train shape: \" + str(x_train.shape))\n",
    "print (\"Y_train shape: \" + str(y_train.shape))\n",
    "print (\"X_val shape: \" + str(x_val.shape))\n",
    "print (\"Y_val shape: \" + str(y_val.shape))\n",
    "print (\"X_test shape: \" + str(x_test.shape))\n",
    "print (\"Y_test shape: \" + str(y_test.shape))"
   ]
  },
  {
   "cell_type": "code",
   "execution_count": 62,
   "metadata": {},
   "outputs": [],
   "source": [
    "# np.save(\"./unnorm_no_shuffle_data/x_train\", x_train)\n",
    "# np.save(\"./unnorm_no_shuffle_data/y_train\", y_train)\n",
    "# np.save(\"./unnorm_no_shuffle_data/x_val\", x_val)\n",
    "# np.save(\"./unnorm_no_shuffle_data/y_val\", y_val)\n",
    "# np.save(\"./unnorm_no_shuffle_data/x_test\", x_test)\n",
    "# np.save(\"./unnorm_no_shuffle_data/y_test\", y_test)\n",
    "# np.save(\"./cleaned_data/train_mu\", train_mu)\n",
    "# np.save(\"./cleaned_data/train_std\", train_std)\n"
   ]
  },
  {
   "cell_type": "code",
   "execution_count": 19,
   "metadata": {},
   "outputs": [
    {
     "data": {
      "text/plain": [
       "array([2.02109570e+09, 2.16106625e+03, 2.44495444e+01, 4.36565968e+04,\n",
       "       1.56521739e+00, 6.02684855e+01, 4.11100611e-02, 2.75592956e+00,\n",
       "       1.96032014e+00, 1.69615780e+02, 1.70138835e+02])"
      ]
     },
     "execution_count": 19,
     "metadata": {},
     "output_type": "execute_result"
    }
   ],
   "source": [
    "train_mu"
   ]
  },
  {
   "cell_type": "code",
   "execution_count": null,
   "metadata": {},
   "outputs": [],
   "source": [
    "''' \n",
    "Feature list:\n",
    "['gameId', 'playId', 'frameId', 'nflId', 'team_indicator', 'adj_x', 'adj_y', 's', 'a', 'adj_o', 'adj_dir']\n",
    "'''"
   ]
  },
  {
   "cell_type": "code",
   "execution_count": null,
   "metadata": {},
   "outputs": [],
   "source": []
  }
 ],
 "metadata": {
  "kernelspec": {
   "display_name": "Python 3.8.13 ('bdb_2023')",
   "language": "python",
   "name": "python3"
  },
  "language_info": {
   "codemirror_mode": {
    "name": "ipython",
    "version": 3
   },
   "file_extension": ".py",
   "mimetype": "text/x-python",
   "name": "python",
   "nbconvert_exporter": "python",
   "pygments_lexer": "ipython3",
   "version": "3.8.13"
  },
  "orig_nbformat": 4,
  "vscode": {
   "interpreter": {
    "hash": "64e913be5900ee3bfd48533456727a82d0e0b84d6c12de93770bb09b0509b267"
   }
  }
 },
 "nbformat": 4,
 "nbformat_minor": 2
}
